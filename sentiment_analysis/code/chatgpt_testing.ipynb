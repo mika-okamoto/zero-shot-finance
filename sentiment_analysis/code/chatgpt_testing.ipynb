{
 "cells": [
  {
   "cell_type": "code",
   "execution_count": 1,
   "metadata": {},
   "outputs": [],
   "source": [
    "import openai,os,sys\n",
    "import pandas as pd\n",
    "from time import sleep, time\n",
    "from datetime import date\n"
   ]
  },
  {
   "cell_type": "code",
   "execution_count": 5,
   "metadata": {},
   "outputs": [],
   "source": [
    "data_category = \"FPB-sentiment-analysis-allagree\"\n",
    "seed = 5768\n",
    "train_data_path = \"../data/train/\" + data_category + \"-train\" + \"-\" + str(seed) + \".xlsx\"\n",
    "data_df = pd.read_excel(train_data_path)"
   ]
  },
  {
   "cell_type": "code",
   "execution_count": 20,
   "metadata": {},
   "outputs": [
    {
     "name": "stdout",
     "output_type": "stream",
     "text": [
      "Sentence: In 2009 , Fiskars ' cash flow from operating activities amounted to EUR121m , up from EUR97m in the previous year .\n",
      "Label: POSITIVE\n",
      "\n",
      "Sentence: Finnish electronics contract manufacturer Scanfil reports net sales of EUR 58.9 mn in the second quarter of 2007 , down from EUR 62.4 mn a year earlier .\n",
      "Label: NEGATIVE\n",
      "\n",
      "Sentence: The objective is that trading in the shares will commence on May 2 , 2007 .\n",
      "Label: NEUTRAL\n",
      "\n",
      "\n"
     ]
    }
   ],
   "source": [
    "sample = data_df.groupby('label', group_keys=False).apply(lambda x: x.sample(min(len(x), 1)))\n",
    "few_shot_ex = \"\"\n",
    "d = {0: 'POSITIVE', 1: 'NEGATIVE', 2: 'NEUTRAL'}\n",
    "for index, row in sample.iterrows():\n",
    "    few_shot_ex += f'Sentence: {row.sentence}\\nLabel: {d[row.label]}\\n\\n'\n",
    "print(few_shot_ex)"
   ]
  },
  {
   "cell_type": "code",
   "execution_count": 25,
   "metadata": {},
   "outputs": [
    {
     "name": "stdout",
     "output_type": "stream",
     "text": [
      "Requirement already satisfied: openai==0.28 in c:\\users\\mikad\\appdata\\local\\programs\\python\\python310\\lib\\site-packages (0.28.0)\n",
      "Requirement already satisfied: requests>=2.20 in c:\\users\\mikad\\appdata\\local\\programs\\python\\python310\\lib\\site-packages (from openai==0.28) (2.31.0)\n",
      "Requirement already satisfied: tqdm in c:\\users\\mikad\\appdata\\local\\programs\\python\\python310\\lib\\site-packages (from openai==0.28) (4.66.1)\n",
      "Requirement already satisfied: aiohttp in c:\\users\\mikad\\appdata\\local\\programs\\python\\python310\\lib\\site-packages (from openai==0.28) (3.9.3)\n",
      "Requirement already satisfied: charset-normalizer<4,>=2 in c:\\users\\mikad\\appdata\\local\\programs\\python\\python310\\lib\\site-packages (from requests>=2.20->openai==0.28) (3.3.2)\n",
      "Requirement already satisfied: idna<4,>=2.5 in c:\\users\\mikad\\appdata\\local\\programs\\python\\python310\\lib\\site-packages (from requests>=2.20->openai==0.28) (3.6)\n",
      "Requirement already satisfied: urllib3<3,>=1.21.1 in c:\\users\\mikad\\appdata\\local\\programs\\python\\python310\\lib\\site-packages (from requests>=2.20->openai==0.28) (2.2.0)\n",
      "Requirement already satisfied: certifi>=2017.4.17 in c:\\users\\mikad\\appdata\\local\\programs\\python\\python310\\lib\\site-packages (from requests>=2.20->openai==0.28) (2024.2.2)\n",
      "Requirement already satisfied: aiosignal>=1.1.2 in c:\\users\\mikad\\appdata\\local\\programs\\python\\python310\\lib\\site-packages (from aiohttp->openai==0.28) (1.3.1)\n",
      "Requirement already satisfied: attrs>=17.3.0 in c:\\users\\mikad\\appdata\\local\\programs\\python\\python310\\lib\\site-packages (from aiohttp->openai==0.28) (23.2.0)\n",
      "Requirement already satisfied: frozenlist>=1.1.1 in c:\\users\\mikad\\appdata\\local\\programs\\python\\python310\\lib\\site-packages (from aiohttp->openai==0.28) (1.4.1)\n",
      "Requirement already satisfied: multidict<7.0,>=4.5 in c:\\users\\mikad\\appdata\\local\\programs\\python\\python310\\lib\\site-packages (from aiohttp->openai==0.28) (6.0.5)\n",
      "Requirement already satisfied: yarl<2.0,>=1.0 in c:\\users\\mikad\\appdata\\local\\programs\\python\\python310\\lib\\site-packages (from aiohttp->openai==0.28) (1.9.4)\n",
      "Requirement already satisfied: async-timeout<5.0,>=4.0 in c:\\users\\mikad\\appdata\\local\\programs\\python\\python310\\lib\\site-packages (from aiohttp->openai==0.28) (4.0.3)\n",
      "Requirement already satisfied: colorama in c:\\users\\mikad\\appdata\\local\\programs\\python\\python310\\lib\\site-packages (from tqdm->openai==0.28) (0.4.4)\n"
     ]
    }
   ],
   "source": [
    "import sys\n",
    "!{sys.executable} -m pip install openai==0.28"
   ]
  },
  {
   "cell_type": "code",
   "execution_count": 26,
   "metadata": {},
   "outputs": [
    {
     "name": "stdout",
     "output_type": "stream",
     "text": [
      "Requirement already satisfied: openai==0.28 in c:\\users\\mikad\\appdata\\local\\packages\\pythonsoftwarefoundation.python.3.9_qbz5n2kfra8p0\\localcache\\local-packages\\python39\\site-packages (0.28.0)\n",
      "Requirement already satisfied: tqdm in c:\\users\\mikad\\appdata\\local\\packages\\pythonsoftwarefoundation.python.3.9_qbz5n2kfra8p0\\localcache\\local-packages\\python39\\site-packages (from openai==0.28) (4.62.3)\n",
      "Requirement already satisfied: requests>=2.20 in c:\\users\\mikad\\appdata\\local\\packages\\pythonsoftwarefoundation.python.3.9_qbz5n2kfra8p0\\localcache\\local-packages\\python39\\site-packages (from openai==0.28) (2.31.0)\n",
      "Requirement already satisfied: aiohttp in c:\\users\\mikad\\appdata\\local\\packages\\pythonsoftwarefoundation.python.3.9_qbz5n2kfra8p0\\localcache\\local-packages\\python39\\site-packages (from openai==0.28) (3.8.4)\n",
      "Requirement already satisfied: certifi>=2017.4.17 in c:\\users\\mikad\\appdata\\local\\packages\\pythonsoftwarefoundation.python.3.9_qbz5n2kfra8p0\\localcache\\local-packages\\python39\\site-packages (from requests>=2.20->openai==0.28) (2022.5.18.1)\n",
      "Requirement already satisfied: idna<4,>=2.5 in c:\\users\\mikad\\appdata\\local\\packages\\pythonsoftwarefoundation.python.3.9_qbz5n2kfra8p0\\localcache\\local-packages\\python39\\site-packages (from requests>=2.20->openai==0.28) (3.4)\n",
      "Requirement already satisfied: charset-normalizer<4,>=2 in c:\\users\\mikad\\appdata\\local\\packages\\pythonsoftwarefoundation.python.3.9_qbz5n2kfra8p0\\localcache\\local-packages\\python39\\site-packages (from requests>=2.20->openai==0.28) (3.1.0)\n",
      "Requirement already satisfied: urllib3<3,>=1.21.1 in c:\\users\\mikad\\appdata\\local\\packages\\pythonsoftwarefoundation.python.3.9_qbz5n2kfra8p0\\localcache\\local-packages\\python39\\site-packages (from requests>=2.20->openai==0.28) (1.26.16)\n",
      "Requirement already satisfied: multidict<7.0,>=4.5 in c:\\users\\mikad\\appdata\\local\\packages\\pythonsoftwarefoundation.python.3.9_qbz5n2kfra8p0\\localcache\\local-packages\\python39\\site-packages (from aiohttp->openai==0.28) (6.0.4)\n",
      "Requirement already satisfied: frozenlist>=1.1.1 in c:\\users\\mikad\\appdata\\local\\packages\\pythonsoftwarefoundation.python.3.9_qbz5n2kfra8p0\\localcache\\local-packages\\python39\\site-packages (from aiohttp->openai==0.28) (1.3.3)\n",
      "Requirement already satisfied: async-timeout<5.0,>=4.0.0a3 in c:\\users\\mikad\\appdata\\local\\packages\\pythonsoftwarefoundation.python.3.9_qbz5n2kfra8p0\\localcache\\local-packages\\python39\\site-packages (from aiohttp->openai==0.28) (4.0.2)\n",
      "Requirement already satisfied: attrs>=17.3.0 in c:\\users\\mikad\\appdata\\local\\packages\\pythonsoftwarefoundation.python.3.9_qbz5n2kfra8p0\\localcache\\local-packages\\python39\\site-packages (from aiohttp->openai==0.28) (22.1.0)\n",
      "Requirement already satisfied: yarl<2.0,>=1.0 in c:\\users\\mikad\\appdata\\local\\packages\\pythonsoftwarefoundation.python.3.9_qbz5n2kfra8p0\\localcache\\local-packages\\python39\\site-packages (from aiohttp->openai==0.28) (1.9.2)\n",
      "Requirement already satisfied: aiosignal>=1.1.2 in c:\\users\\mikad\\appdata\\local\\packages\\pythonsoftwarefoundation.python.3.9_qbz5n2kfra8p0\\localcache\\local-packages\\python39\\site-packages (from aiohttp->openai==0.28) (1.3.1)\n",
      "Requirement already satisfied: colorama in c:\\users\\mikad\\appdata\\local\\packages\\pythonsoftwarefoundation.python.3.9_qbz5n2kfra8p0\\localcache\\local-packages\\python39\\site-packages (from tqdm->openai==0.28) (0.4.6)\n"
     ]
    },
    {
     "name": "stderr",
     "output_type": "stream",
     "text": [
      "\n",
      "[notice] A new release of pip available: 22.2.1 -> 24.0\n",
      "[notice] To update, run: C:\\Users\\mikad\\AppData\\Local\\Microsoft\\WindowsApps\\PythonSoftwareFoundation.Python.3.9_qbz5n2kfra8p0\\python.exe -m pip install --upgrade pip\n"
     ]
    }
   ],
   "source": [
    "!pip install openai==0.28"
   ]
  },
  {
   "cell_type": "code",
   "execution_count": 27,
   "metadata": {},
   "outputs": [
    {
     "name": "stdout",
     "output_type": "stream",
     "text": [
      "Sentence: The acquisition will considerably increase Kemira 's sales and market position in the Russian metal industry coatings market .\n",
      "Label: POSITIVE\n",
      "\n",
      "Sentence: Profit for the period totalled EUR 1.1 mn , down from EUR 1.6 mn in the third quarter of 2008 .\n",
      "Label: NEGATIVE\n",
      "\n",
      "Sentence: Equipment will be manufactured in Vaahto 's workshop in Hollola , Finland and is scheduled for shipments during the first quarter of 2009 .\n",
      "Label: NEUTRAL\n",
      "\n",
      "\n",
      "Discard all the previous instructions. Behave like you are an expert sentence sentiment classifier. Classify the following sentence into 'NEGATIVE', 'POSITIVE', or 'NEUTRAL' class. Label 'NEGATIVE' if it is corresponding to negative sentiment, 'POSITIVE' if it is corresponding to positive sentiment, or 'NEUTRAL' if the sentiment is neutral. Examples:\n",
      "Sentence: The acquisition will considerably increase Kemira 's sales and market position in the Russian metal industry coatings market .\n",
      "Label: POSITIVE\n",
      "\n",
      "Sentence: Profit for the period totalled EUR 1.1 mn , down from EUR 1.6 mn in the third quarter of 2008 .\n",
      "Label: NEGATIVE\n",
      "\n",
      "Sentence: Equipment will be manufactured in Vaahto 's workshop in Hollola , Finland and is scheduled for shipments during the first quarter of 2009 .\n",
      "Label: NEUTRAL\n",
      "\n",
      "\n",
      "Provide the label in the first line and provide a short explanation in the second line. The sentence: Our customers come from the following countries : UK , USA , Spain , France , Italy , Germany , China , Hong Kong , Sweden , Norway , Netherlands , Austria , Belgium , Switzerland , Czech Republic , Finland , Canada , Russia , Ukraine , Denmark , Ireland , South Korea and Liechtenstein .\n",
      "\n",
      "\n",
      "You tried to access openai.ChatCompletion, but this is no longer supported in openai>=1.0.0 - see the README at https://github.com/openai/openai-python for the API.\n",
      "\n",
      "You can run `openai migrate` to automatically upgrade your codebase to use the 1.0.0 interface. \n",
      "\n",
      "Alternatively, you can pin your installation to the old version, e.g. `pip install openai==0.28`\n",
      "\n",
      "A detailed migration guide is available here: https://github.com/openai/openai-python/discussions/742\n",
      "\n",
      "Unsure. Error.\n"
     ]
    }
   ],
   "source": [
    "for seed in [5768, 78516, 944601]:  \n",
    "    for data_category in [\"FPB-sentiment-analysis-allagree\"]:\n",
    "        start_t = time()\n",
    "        # load training data\n",
    "        test_data_path = \"../data/test/\" + data_category + \"-test\" + \"-\" + str(seed) + \".xlsx\"\n",
    "        data_df = pd.read_excel(test_data_path)\n",
    "        train_data_path = \"../data/train/\" + data_category + \"-train\" + \"-\" + str(seed) + \".xlsx\"\n",
    "        train_df = pd.read_excel(train_data_path)\n",
    "\n",
    "        sample = train_df.groupby('label', group_keys=False).apply(lambda x: x.sample(min(len(x), 1)))\n",
    "        few_shot_ex = \"\"\n",
    "        d = {0: 'POSITIVE', 1: 'NEGATIVE', 2: 'NEUTRAL'}\n",
    "        for index, row in sample.iterrows():\n",
    "            few_shot_ex += f'Sentence: {row.sentence}\\nLabel: {d[row.label]}\\n\\n'\n",
    "        print(few_shot_ex)\n",
    "\n",
    "        sentences = data_df['sentence'].to_list()\n",
    "        labels = data_df['label'].to_numpy()\n",
    "\n",
    "        output_list = []\n",
    "        for i in range(len(sentences)): \n",
    "            sen = sentences[i]\n",
    "            message = f\"Discard all the previous instructions. Behave like you are an expert sentence sentiment classifier. Classify the following sentence into 'NEGATIVE', 'POSITIVE', or 'NEUTRAL' class. Label 'NEGATIVE' if it is corresponding to negative sentiment, 'POSITIVE' if it is corresponding to positive sentiment, or 'NEUTRAL' if the sentiment is neutral. Examples:\\n{few_shot_ex}\\nProvide the label in the first line and provide a short explanation in the second line. The sentence: \" + sen\n",
    "            print(message)\n",
    "            prompt_json = [\n",
    "                    {\"role\": \"user\", \"content\": message},\n",
    "            ]\n",
    "            try:\n",
    "                chat_completion = openai.ChatCompletion.create(\n",
    "                        model=\"gpt-3.5-turbo\",\n",
    "                        messages=prompt_json,\n",
    "                        temperature=0.0,\n",
    "                        max_tokens=1000\n",
    "                )\n",
    "                answer = chat_completion.choices[0].message.content\n",
    "            except Exception as e:\n",
    "                print(e)\n",
    "                # i = i - 1\n",
    "                # sleep(10.0)\n",
    "                answer = \"Unsure. Error.\"\n",
    "\n",
    "            print(answer)\n",
    "            output_list.append([labels[i], sen, answer])\n",
    "            # sleep(1.0) \n",
    "            break\n",
    "\n",
    "            results = pd.DataFrame(output_list, columns=[\"true_label\", \"original_sent\", \"text_output\"])\n",
    "\n",
    "            time_taken = int((time() - start_t)/60.0)\n",
    "            results.to_csv(f'../data/llm_prompt_outputs/chatgpt_{data_category}_{seed}_{today.strftime(\"%d_%m_%Y\")}_{time_taken}.csv', index=False)\n",
    "    break"
   ]
  }
 ],
 "metadata": {
  "kernelspec": {
   "display_name": "Python 3",
   "language": "python",
   "name": "python3"
  },
  "language_info": {
   "codemirror_mode": {
    "name": "ipython",
    "version": 3
   },
   "file_extension": ".py",
   "mimetype": "text/x-python",
   "name": "python",
   "nbconvert_exporter": "python",
   "pygments_lexer": "ipython3",
   "version": "3.10.0"
  }
 },
 "nbformat": 4,
 "nbformat_minor": 2
}
