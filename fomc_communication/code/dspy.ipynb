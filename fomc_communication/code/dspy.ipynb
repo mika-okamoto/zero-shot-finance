{
 "cells": [
  {
   "cell_type": "code",
   "execution_count": 34,
   "metadata": {},
   "outputs": [],
   "source": [
    "import dspy\n",
    "import pandas as pd\n",
    "import numpy as np\n",
    "import openai,os,sys\n",
    "from time import sleep, time\n",
    "from datetime import date\n",
    "today = date.today()\n",
    "from dspy.evaluate import Evaluate\n",
    "from dspy.teleprompt import MIPRO\n",
    "\n",
    "from sklearn.metrics import f1_score\n",
    "from sklearn.metrics import accuracy_score"
   ]
  },
  {
   "cell_type": "code",
   "execution_count": 35,
   "metadata": {},
   "outputs": [
    {
     "data": {
      "text/html": [
       "<div>\n",
       "<style scoped>\n",
       "    .dataframe tbody tr th:only-of-type {\n",
       "        vertical-align: middle;\n",
       "    }\n",
       "\n",
       "    .dataframe tbody tr th {\n",
       "        vertical-align: top;\n",
       "    }\n",
       "\n",
       "    .dataframe thead th {\n",
       "        text-align: right;\n",
       "    }\n",
       "</style>\n",
       "<table border=\"1\" class=\"dataframe\">\n",
       "  <thead>\n",
       "    <tr style=\"text-align: right;\">\n",
       "      <th></th>\n",
       "      <th>index</th>\n",
       "      <th>sentence</th>\n",
       "      <th>year</th>\n",
       "      <th>label</th>\n",
       "      <th>orig_index</th>\n",
       "    </tr>\n",
       "  </thead>\n",
       "  <tbody>\n",
       "    <tr>\n",
       "      <th>0</th>\n",
       "      <td>687</td>\n",
       "      <td>Setting the horizon on the interest rate caps ...</td>\n",
       "      <td>2006</td>\n",
       "      <td>2</td>\n",
       "      <td>666</td>\n",
       "    </tr>\n",
       "    <tr>\n",
       "      <th>1</th>\n",
       "      <td>595</td>\n",
       "      <td>Nonetheless, employment is still 9.5 million b...</td>\n",
       "      <td>1999</td>\n",
       "      <td>0</td>\n",
       "      <td>576</td>\n",
       "    </tr>\n",
       "    <tr>\n",
       "      <th>2</th>\n",
       "      <td>824</td>\n",
       "      <td>The shifting balance of domestic demand and po...</td>\n",
       "      <td>2017</td>\n",
       "      <td>1</td>\n",
       "      <td>801</td>\n",
       "    </tr>\n",
       "    <tr>\n",
       "      <th>3</th>\n",
       "      <td>133</td>\n",
       "      <td>By 2009, the forecasts for both the headline a...</td>\n",
       "      <td>2022</td>\n",
       "      <td>2</td>\n",
       "      <td>130</td>\n",
       "    </tr>\n",
       "    <tr>\n",
       "      <th>4</th>\n",
       "      <td>297</td>\n",
       "      <td>In Japan, private consumption rebounded strong...</td>\n",
       "      <td>2006</td>\n",
       "      <td>2</td>\n",
       "      <td>283</td>\n",
       "    </tr>\n",
       "  </tbody>\n",
       "</table>\n",
       "</div>"
      ],
      "text/plain": [
       "   index                                           sentence  year  label  \\\n",
       "0    687  Setting the horizon on the interest rate caps ...  2006      2   \n",
       "1    595  Nonetheless, employment is still 9.5 million b...  1999      0   \n",
       "2    824  The shifting balance of domestic demand and po...  2017      1   \n",
       "3    133  By 2009, the forecasts for both the headline a...  2022      2   \n",
       "4    297  In Japan, private consumption rebounded strong...  2006      2   \n",
       "\n",
       "   orig_index  \n",
       "0         666  \n",
       "1         576  \n",
       "2         801  \n",
       "3         130  \n",
       "4         283  "
      ]
     },
     "execution_count": 35,
     "metadata": {},
     "output_type": "execute_result"
    }
   ],
   "source": [
    "seed = 78516\n",
    "df = pd.read_excel(f'../data/test/lab-manual-split-combine-test-{seed}.xlsx')\n",
    "df.head()"
   ]
  },
  {
   "cell_type": "code",
   "execution_count": 36,
   "metadata": {},
   "outputs": [
    {
     "data": {
      "text/plain": [
       "[Example({'sentence': 'Conditions in the commercial paper (CP) market improved over the intermeeting period, likely reflecting recent measures taken in support of this market, greater demand from institutional investors, and the passing of year-end.', 'answer': 0}) (input_keys={'sentence'}),\n",
       " Example({'sentence': 'Most projected somewhat slower growth through next year, and a smaller reduction in unemployment, than they had projected in April.', 'answer': 0}) (input_keys={'sentence'}),\n",
       " Example({'sentence': 'The Committee expects that, with appropriate policy accommodation, economic activity will expand at a moderate pace, with labor market indicators continuing to move toward levels the Committee judges consistent with its dual mandate.', 'answer': 0}) (input_keys={'sentence'}),\n",
       " Example({'sentence': 'With unemployment still elevated and inflation below the Committee’s longer-run objective, the Committee is continuing its highly accommodative policies.', 'answer': 0}) (input_keys={'sentence'}),\n",
       " Example({'sentence': 'So unless productivity accelerates further, its disinflationary effect should continue to erode for a time.', 'answer': 0}) (input_keys={'sentence'}),\n",
       " Example({'sentence': 'A second economic rationale that is often advanced for the development of cities and that seems applicable to the Sioux Falls experience is that of labor market pooling--the ability of an industry to take advantage of a labor force possessing a specific set of skills, thereby raising productivity compared with competing areas with a more dispersed set of skills.', 'answer': 0}) (input_keys={'sentence'}),\n",
       " Example({'sentence': 'That should gradually return the economy to full utilization of its resources, while inflation remains subdued.', 'answer': 0}) (input_keys={'sentence'}),\n",
       " Example({'sentence': 'So unemployment has tended to go up much faster for minorities and for others who are—tend to be at the low end of the income spectrum.', 'answer': 0}) (input_keys={'sentence'}),\n",
       " Example({'sentence': 'Consumer price inflation remained subdued in November, with both the overall index and the index excluding food and energy items rising at the same relatively low rates as in October.', 'answer': 0}) (input_keys={'sentence'}),\n",
       " Example({'sentence': 'they rebounded late in the period in response to the release of firmer economic data and growing concerns regarding the sustainability of current domestic asset prices.', 'answer': 0}) (input_keys={'sentence'}),\n",
       " Example({'sentence': 'M2 growth dropped in the second quarter and remained modest in July, consistent with moderating growth of nominal income and rising opportunity cost.', 'answer': 1}) (input_keys={'sentence'}),\n",
       " Example({'sentence': 'For example, as table 1 shows, the collective current account surplus of the Middle East and Africa rose more than $40 billion between 1996 and 2003; it continued to swell in 2004 as oil prices increased yet further.', 'answer': 1}) (input_keys={'sentence'}),\n",
       " Example({'sentence': 'So I, you know, I’m—I feel quite comfortable that we can—in particular, that we can raise interest rates at the appropriate time, even if the balance sheet remains large for an extended period.', 'answer': 1}) (input_keys={'sentence'}),\n",
       " Example({'sentence': 'The staff forecast for total PCE price inflation in 2018 was revised up slightly, mainly because of a faster-than-expected increase in consumer energy prices in the second half.', 'answer': 1}) (input_keys={'sentence'}),\n",
       " Example({'sentence': 'In his view, historical precedents suggested that prolonged periods of taut labor markets were eventually associated with rising inflation.', 'answer': 1}) (input_keys={'sentence'}),\n",
       " Example({'sentence': 'More fundamentally, however, the members believed that current growth in aggregate demand, should it persist, would continue to exceed the expansion of potential output and, by putting added pressure on already tight labor markets, would at some point foster inflationary imbalances that would undermine the economic expansion.', 'answer': 1}) (input_keys={'sentence'}),\n",
       " Example({'sentence': 'Our role, though, is also to, you know, to make sure that—that maximum employment happens in a context of price stability and financial stability, which is why we’re gradually raising rates.', 'answer': 1}) (input_keys={'sentence'}),\n",
       " Example({'sentence': 'In May, there was a notable rebound in employment and decline in unemployment, and these developments are certainly welcome.', 'answer': 1}) (input_keys={'sentence'}),\n",
       " Example({'sentence': 'For example, in his monetary policy testimony of July 1992, Chairman Greenspan said, \"As I have often noted to this committee, the most important contribution the Federal Reserve can make to encouraging the highest sustainable growth the U.S. economy can deliver over time is to provide a backdrop of reasonably stable prices on average for business and household decisionmaking\" (Greenspan, 1992, pp.', 'answer': 1}) (input_keys={'sentence'}),\n",
       " Example({'sentence': 'Members agreed that the statement should continue to convey that inflation risks remained of greatest concern and that additional policy firming was possible.', 'answer': 1}) (input_keys={'sentence'}),\n",
       " Example({'sentence': 'Although the required amount of cumulative tightening may have increased, members noted that an accelerated pace of policy tightening did not appear necessary at this time, as a degree of economic slack apparently remained, productivity growth would probably continue to damp increases in unit labor costs and prices, and inflation would most likely continue to be contained.', 'answer': 2}) (input_keys={'sentence'}),\n",
       " Example({'sentence': \"And I'm pleased to have the opportunity to share with you, the students of South Dakota State University (SDSU), my experience as a member of the Federal Reserve Board of Governors and my outlook for the U.S. economy.1 Today I will speak to you about my outlook for the U.S. economy and what the Federal Reserve has been doing to support economic activity during the COVID-19 pandemic recovery.\", 'answer': 2}) (input_keys={'sentence'}),\n",
       " Example({'sentence': 'The release this year and last of mortgage price data gathered under the Home Mortgage Disclosure Act (HMDA) has highlighted a different, but potentially related, concern about access to credit on equal terms.', 'answer': 2}) (input_keys={'sentence'}),\n",
       " Example({'sentence': 'My fellow governors and I routinely receive from our staff a translation of the term structure of Treasury yields into implied forward rates, volatility inferred from options prices, and paths for expected monetary policy action consistent with futures prices.', 'answer': 2}) (input_keys={'sentence'}),\n",
       " Example({'sentence': 'With the boost from these factors fading, real GDP growth was projected to step down noticeably in 2023 and to be roughly equal to potential output growth in 2023 and 2024.', 'answer': 2}) (input_keys={'sentence'}),\n",
       " Example({'sentence': 'The number of black-owned firms increased nearly 50 percent and the number of Hispanic-owned firms jumped 80 percent between 1987 and 1992--between two and three times the rate of growth of non-minority-owned firms.', 'answer': 2}) (input_keys={'sentence'}),\n",
       " Example({'sentence': 'Ensuring that every American has the chance to improve his or her economic circumstances through hard work, saving, entrepreneurship, and other productive activities is essential for building healthy communities and achieving sustainable economic growth.', 'answer': 2}) (input_keys={'sentence'}),\n",
       " Example({'sentence': 'Fischer, Sahay, and Vegh (2002) present evidence of a strong correlation between fiscal deficits and money creation in high-inflation economies.', 'answer': 2}) (input_keys={'sentence'}),\n",
       " Example({'sentence': 'If episodic recurrences of ruptured confidence are integral to the way our economy and our financial markets work now and in the future, it has significant implications for risk management and, by implication, macroeconomic modeling and monetary policy.', 'answer': 2}) (input_keys={'sentence'}),\n",
       " Example({'sentence': 'Flexible inflation averaging would bring some of the benefits of a formal average-inflation-targeting rule, but it could be more robust and simpler to communicate and implement.', 'answer': 2}) (input_keys={'sentence'})]"
      ]
     },
     "execution_count": 36,
     "metadata": {},
     "output_type": "execute_result"
    }
   ],
   "source": [
    "train = pd.read_excel(f'../data/train/lab-manual-split-combine-train-{seed}.xlsx')\n",
    "sample = train.groupby('label', group_keys=False).apply(lambda x: x.sample(min(len(x), 10))).reset_index(drop=True)\n",
    "training_set = [dspy.Example(sentence = sample.loc[i].sentence, answer = sample.loc[i].label).with_inputs(\"sentence\") for i in range(len(sample.index))]\n",
    "training_set"
   ]
  },
  {
   "cell_type": "code",
   "execution_count": 37,
   "metadata": {},
   "outputs": [
    {
     "data": {
      "text/plain": [
       "[Example({'sentence': 'Setting the horizon on the interest rate caps to reinforce forward guidance on the policy rate would augment the credibility of the yield curve caps and thereby diminish concerns about an open-ended balance sheet commitment.', 'answer': 2}) (input_keys={'sentence'}),\n",
       " Example({'sentence': 'Nonetheless, employment is still 9.5 million below its pre-pandemic level for the economy as a whole.', 'answer': 0}) (input_keys={'sentence'}),\n",
       " Example({'sentence': 'The shifting balance of domestic demand and potential supply in each country means that policies affecting domestic demand will need to be re-calibrated to preserve price stability and keep economies operating at high levels of reserve utilization.', 'answer': 1}) (input_keys={'sentence'}),\n",
       " Example({'sentence': 'By 2009, the forecasts for both the headline and core PCE price indexes showed inflation receding from its 2008 level, in line with the previous forecasts.', 'answer': 2}) (input_keys={'sentence'}),\n",
       " Example({'sentence': 'In Japan, private consumption rebounded strongly, and private investment and net exports continued to boost growth.', 'answer': 2}) (input_keys={'sentence'}),\n",
       " Example({'sentence': 'What we really mean is that we would look at—we know that inflation will move around on both sides of the target, and what we say is that we would be equally concerned with inflation persistently above as persistently below the target.', 'answer': 2}) (input_keys={'sentence'}),\n",
       " Example({'sentence': \"Staff Economic Outlook In the forecast prepared for the March FOMC meeting, the staff's outlook for real economic activity was broadly similar to that at the time of the January meeting.\", 'answer': 2}) (input_keys={'sentence'}),\n",
       " Example({'sentence': 'market-based measures of inflation compensation over the next five years, as well as over the five-year period beginning five years ahead, moved down further over the intermeeting period.', 'answer': 2}) (input_keys={'sentence'}),\n",
       " Example({'sentence': 'Moreover, the outlook for foreign economic activity also appeared a bit weaker.', 'answer': 2}) (input_keys={'sentence'}),\n",
       " Example({'sentence': 'In contrast, the dollar appreciated against the AFE currencies, reflecting continued divergence in monetary policy expectations for the United States and AFEs as well as political uncertainty in Europe.', 'answer': 0}) (input_keys={'sentence'}),\n",
       " Example({'sentence': 'But because the United States has run persistent and sizable primary trade deficits since 1990, the net external debt is now 25 percent of GDP and rising sharply.', 'answer': 1}) (input_keys={'sentence'}),\n",
       " Example({'sentence': 'Some uncertainties, such as those associated with the election, had been resolved, but others persisted, including the prospects for oil prices and their consequences for the economy.', 'answer': 2}) (input_keys={'sentence'}),\n",
       " Example({'sentence': \"They continued to expect that inflation would move up toward the Committee's 2 percent objective over the medium term as the effects of these transitory factors waned and conditions in the labor market improved further.\", 'answer': 2}) (input_keys={'sentence'}),\n",
       " Example({'sentence': 'So, we are taking account of international developments, including prospects for growth in our trade partners, in making the forecast we have here.', 'answer': 2}) (input_keys={'sentence'}),\n",
       " Example({'sentence': 'Even so, the growth of investment spending over this period noticeably outpaced the rise in retained earnings, and thus these corporations turned to the capital markets to fill the widening gap.', 'answer': 1}) (input_keys={'sentence'}),\n",
       " Example({'sentence': 'But this belief will persist only as long as we on the Federal Open Market Committee continue to ratify the publicâ€™s expectations that inflation will remain low and stable.', 'answer': 1}) (input_keys={'sentence'}),\n",
       " Example({'sentence': 'Participants agreed that the longer-run normal federal funds rate was likely lower than in the past, in part because of secular forces that had put downward pressure on real interest rates.', 'answer': 0}) (input_keys={'sentence'}),\n",
       " Example({'sentence': 'Moreover, we should recognize that these disinflationary effects could dissipate or even be reversed in coming years.', 'answer': 0}) (input_keys={'sentence'}),\n",
       " Example({'sentence': 'Signs of an actual change in inflation were still quite tentative and anecdotal, and they did not warrant an adjustment to policy at this meeting.', 'answer': 2}) (input_keys={'sentence'}),\n",
       " Example({'sentence': 'In their review of developments in key sectors of the economy, members again emphasized the ongoing strength in household spending and its vital role in moderating the weakness in overall economic activity.', 'answer': 2}) (input_keys={'sentence'}),\n",
       " Example({'sentence': 'The ongoing public health crisis will weigh heavily on economic activity, employment, and inflation in the near term, and poses considerable risks to the economic outlook over the medium term.', 'answer': 0}) (input_keys={'sentence'}),\n",
       " Example({'sentence': \"Households' longer-term inflation expectations also edged up in both November and December.\", 'answer': 1}) (input_keys={'sentence'}),\n",
       " Example({'sentence': 'The vote encompassed approval of the statement below to be released at 2:00 p. m. : \"Information received since the Federal Open Market Committee met in March indicates that growth in economic activity has picked up recently, after having slowed sharply during the winter in part because of adverse weather conditions.', 'answer': 2}) (input_keys={'sentence'}),\n",
       " Example({'sentence': 'At the same time, an acceleration in productivity also appears to have a direct disinflationary effect.', 'answer': 0}) (input_keys={'sentence'}),\n",
       " Example({'sentence': \"Mr. Kocherlakota dissented because, in his view, the new forward guidance in the fifth paragraph of the statement would weaken the credibility of the Committee's commitment to its inflation goal by failing to communicate purposeful steps to more rapidly increase inflation to the 2 percent target and by suggesting that the Committee views inflation persistently below 2 percent as an acceptable outcome.\", 'answer': 0}) (input_keys={'sentence'}),\n",
       " Example({'sentence': 'Indicators of longer-term inflation expectations are little changed, on balance.', 'answer': 2}) (input_keys={'sentence'}),\n",
       " Example({'sentence': 'A variety of indicators, along with anecdotal reports, suggested that employment was expanding at a fairly good pace and labor compensation was rising moderately.', 'answer': 1}) (input_keys={'sentence'}),\n",
       " Example({'sentence': 'A few participants particularly stressed the high uncertainty associated with the expected future path of the unemployment rate and commented that the unemployment rate could rise by considerably more than in the staff forecast.', 'answer': 0}) (input_keys={'sentence'}),\n",
       " Example({'sentence': 'In contrast, the past few cycles did not see this kind of behavior, and in each case, financial imbalances, rather than goods and services inflation, were notably elevated at the onset of the downturn.', 'answer': 1}) (input_keys={'sentence'}),\n",
       " Example({'sentence': 'Although real growth was likely to be moderate in coming quarters, in his view it was unlikely to be slow enough to bring core inflation down.', 'answer': 1}) (input_keys={'sentence'}),\n",
       " Example({'sentence': 'And that, I think, does raise, raise the risk that high inflation will be more persistent.', 'answer': 1}) (input_keys={'sentence'}),\n",
       " Example({'sentence': 'The technical measures we are undertaking do not represent a change in the stance of monetary policy, which we continue to implement by adjusting the target range for the federal funds rate.', 'answer': 2}) (input_keys={'sentence'}),\n",
       " Example({'sentence': 'I don’t really think asset prices themselves represent a significant threat to financial stability, and that’s because households are in good shape financially than they have been.', 'answer': 0}) (input_keys={'sentence'}),\n",
       " Example({'sentence': 'By fostering increased interactions among central banks, academics, and the public in many different countries, globalization has helped spread a common culture that stresses the benefits of achieving price stability.', 'answer': 1}) (input_keys={'sentence'}),\n",
       " Example({'sentence': 'The flow of macrodata received since May has been surprisingly strong, and GDP growth in the third quarter is estimated by many forecasters to have rebounded at roughly a 30 percent annual rate.', 'answer': 1}) (input_keys={'sentence'}),\n",
       " Example({'sentence': 'Another example of deficit targets comes from the balanced-budget requirements of the states, which can be viewed as deficit targets with the target set at zero.', 'answer': 2}) (input_keys={'sentence'}),\n",
       " Example({'sentence': 'with a healthy job market, rising incomes, and upbeat consumer confidence, the fundamentals supporting household spending are solid.', 'answer': 2}) (input_keys={'sentence'}),\n",
       " Example({'sentence': \"However, a few participants expressed concern that higher household wealth might not translate into greater consumer spending, cautioning that household income growth remained slow, that households might not treat the additions to wealth arising from recent equity price increases as lasting, or that households' scope to extract housing equity for the purpose of increasing their expenditures was less than in the past.\", 'answer': 2}) (input_keys={'sentence'}),\n",
       " Example({'sentence': \"Staff Economic Outlook In the economic forecast prepared for the January FOMC meeting, the staff's projection for the growth in real gross domestic product (GDP) in the near term was revised down a bit.\", 'answer': 0}) (input_keys={'sentence'}),\n",
       " Example({'sentence': 'The major reason for these significant differences in spending out of household wealth is doubtless that, while home prices do on occasion decline, large declines are rare; the general experience of homeowners is a modest, but persistent, rise in home values that is perceived to be largely permanent.', 'answer': 1}) (input_keys={'sentence'}),\n",
       " Example({'sentence': 'core CPI inflation remained low.', 'answer': 1}) (input_keys={'sentence'}),\n",
       " Example({'sentence': 'That transition itself could help bring inflation down, because, presumably, people would spend a little less on goods while they start spending more on travel and all sorts of travel services and things like that.', 'answer': 2}) (input_keys={'sentence'}),\n",
       " Example({'sentence': 'What I do want to share with you is how the equity market fits into my thinking about monetary policy.', 'answer': 2}) (input_keys={'sentence'}),\n",
       " Example({'sentence': 'success was fairly uniform across both the inflation-targeting and nontargeting countries.', 'answer': 2}) (input_keys={'sentence'}),\n",
       " Example({'sentence': 'As a result, growth of spending on consumer durables was expected to be appreciably below the rapid pace in the first half of last year, and housing demand would increase only a little from its recent level.', 'answer': 2}) (input_keys={'sentence'}),\n",
       " Example({'sentence': 'The unwinding in the early months of 1997 of special factors that had boosted net exports in the fourth quarter of 1996 was offsetting some of the effects on production of the persisting strength in domestic demand.', 'answer': 2}) (input_keys={'sentence'}),\n",
       " Example({'sentence': 'At the same time, business firms generally were not raising their prices sufficiently to compensate for faster increases in their labor costs, to the extent that the latter were occurring, evidently because of the persistence of intense competition in most markets.', 'answer': 1}) (input_keys={'sentence'}),\n",
       " Example({'sentence': 'Largely as a consequence of rapidly expanding \"new economy\" investments, gains in productivity had occurred at remarkable rates in recent years.', 'answer': 2}) (input_keys={'sentence'}),\n",
       " Example({'sentence': 'But I do think that—and I do think also that unemployment insurance benefits will run out in September, so to the extent that’s a factor, which is not clear, it will no longer be a factor fairly soon.', 'answer': 2}) (input_keys={'sentence'}),\n",
       " Example({'sentence': 'China has eased some of its most stringent COVID containment measures but recently revived travel restrictions in some areas, and its approach to the pandemic remains an upside risk for inflation.', 'answer': 1}) (input_keys={'sentence'}),\n",
       " Example({'sentence': 'In contrast, changes in inflation rates in some services categories, such as shelter costs, tend to be more persistent.', 'answer': 2}) (input_keys={'sentence'}),\n",
       " Example({'sentence': 'Through this channel, the decline in inflation volatility should be reflected in a smaller inflation risk premium in nominal bond yields, which is exactly what is estimated in the Kim, Walsh, and Wei (2019) yield curve model (figure 4, \"Term Premium Decomposition\").', 'answer': 2}) (input_keys={'sentence'}),\n",
       " Example({'sentence': 'Despite a recent uptick in consumer prices, year-over-year consumer inflation remained at a very low level.', 'answer': 0}) (input_keys={'sentence'}),\n",
       " Example({'sentence': 'Earlier in the year, as you will all recall, after careful study over a period of years, actually, the Committee announced the decision to implement monetary policy in an ample-reserves regime.', 'answer': 0}) (input_keys={'sentence'}),\n",
       " Example({'sentence': 'The associated declines in wealth could amplify the effects on economic activity, which could have further knock-on effects on financial markets.', 'answer': 0}) (input_keys={'sentence'}),\n",
       " Example({'sentence': 'The recent strains in financial markets posed additional downside risks to economic growth.', 'answer': 0}) (input_keys={'sentence'}),\n",
       " Example({'sentence': 'By definition, multifactor productivity includes technical change, organizational improvements, cyclical factors, and myriad other influences on output per hour, apart from capital investment.', 'answer': 2}) (input_keys={'sentence'}),\n",
       " Example({'sentence': 'However, this shortfall partly reflected the earlier declines in energy prices and decreasing prices of non-energy imports, and some participants pointed out that, by some measures, the most recent monthly inflation readings had firmed a bit.', 'answer': 0}) (input_keys={'sentence'}),\n",
       " Example({'sentence': 'Later in the week, however, market interest rates moved up in response to the release of the minutes of the February meeting and the mention therein of some sentiment for a larger policy tightening than had been undertaken.', 'answer': 1}) (input_keys={'sentence'}),\n",
       " Example({'sentence': 'When the Committee decides to begin to remove policy accommodation, it will take a balanced approach consistent with its longer-run goals of maximum employment and inflation of 2 percent.', 'answer': 1}) (input_keys={'sentence'}),\n",
       " Example({'sentence': 'Financial conditions continue to pose a downside risk to the outlook for growth.', 'answer': 0}) (input_keys={'sentence'}),\n",
       " Example({'sentence': 'Given the pressure of a considerable amount of unused resources, any adverse developments that held down economic expansion would increase the probability of further disinflation.', 'answer': 0}) (input_keys={'sentence'}),\n",
       " Example({'sentence': 'Indeed, how will we measure inflation, and the associated financial market implications, in the twenty-first century when our data--using current techniques--could become increasingly less adequate to trace price trends over time?', 'answer': 2}) (input_keys={'sentence'}),\n",
       " Example({'sentence': 'Such a policy would clearly have near-term costs: It would slow the expansion in demand, damp the creation of new jobs, and keep inflation lower than it otherwise would be.', 'answer': 0}) (input_keys={'sentence'}),\n",
       " Example({'sentence': 'For 1998, the Committee agreed on a tentative basis to set the same ranges as in 1997 for growth of the monetary aggregates and debt, measured from the fourth quarter of 1997 to the fourth quarter of 1998.', 'answer': 2}) (input_keys={'sentence'}),\n",
       " Example({'sentence': 'Traditionally, these two measures of excess demand move together over the cycle.', 'answer': 2}) (input_keys={'sentence'}),\n",
       " Example({'sentence': 'For example, if financial market participants thought that the Federal Reserve were not dedicated to maintaining long-run price stability, they would be less willing to hold dollar-denominated assets and the resulting decline in the exchange value of the dollar would tend to add to inflationary pressures.', 'answer': 1}) (input_keys={'sentence'}),\n",
       " Example({'sentence': 'At the conclusion of the discussion, the Committee voted to authorize and direct the Federal Reserve Bank of New York, until it was instructed otherwise, to execute transactions in the System Account in accordance with the following domestic policy directive: \"The Federal Open Market Committee seeks monetary and financial conditions that will foster price stability and promote sustainable growth in output.', 'answer': 1}) (input_keys={'sentence'}),\n",
       " Example({'sentence': 'Two members preferred to leave the target range at 1 to 1-1/4 percent, suggesting that the Committee should wait to raise the target range until inflation moves up closer to 2 percent on a sustained basis or inflation expectations increase.', 'answer': 2}) (input_keys={'sentence'}),\n",
       " Example({'sentence': 'But is it really true that prices are more responsive to productivity than wages?', 'answer': 2}) (input_keys={'sentence'}),\n",
       " Example({'sentence': 'M2 growth picked up appreciably during December and January, evidently reflecting extra demands for liquidity and safety during the century-date-change period.', 'answer': 0}) (input_keys={'sentence'}),\n",
       " Example({'sentence': \"Another reason for the reliance on judgment in the forecasting process is the practical requirement that the forecast for inflation be consistent with the staff's overall view of the economy, including the forecasts for key economic variables such as wages, interest rates, and consumption spending.\", 'answer': 2}) (input_keys={'sentence'}),\n",
       " Example({'sentence': 'Global factors may have put downward pressure on term premiums because of anxiety about the foreign outlook, which may have increased demand for U.S. assets, or because low rates abroad have depressed U.S. term premiums through a global portfolio balance channel.5 And real rates are quite low globally, reflecting the step-down of productivity growth over the past 10 years as well as shifts in savings and investment demand due to demographic change.6 The Core of the Financial System Is Much Stronger Before turning to the interplay between low rates and the financial system, I will simply point out that both improved risk management at the largest, most systemically important financial institutions (SIFIs) and stronger regulation have made the core of the system much stronger and more resilient than before the crisis.7 The SIFIs have more stable funding, hold much more capital and liquidity, are more conscious of their risks, and are far more resolvable should they fail.', 'answer': 2}) (input_keys={'sentence'}),\n",
       " Example({'sentence': 'Moreover, most members saw substantial downside risks to the economic outlook and judged that a rate reduction at this meeting would provide valuable additional insurance against an unexpectedly severe weakening in economic activity.', 'answer': 0}) (input_keys={'sentence'}),\n",
       " Example({'sentence': 'Well, we—as a Committee, we do not desire inflation undershoots.', 'answer': 0}) (input_keys={'sentence'}),\n",
       " Example({'sentence': \"Potentially, waiting could require more disruptive policy tightening actions later and could risk the credibility of the System's anti-inflation policy.\", 'answer': 1}) (input_keys={'sentence'}),\n",
       " Example({'sentence': 'Business contacts in a few Districts reported that they had begun to have some more ability to raise prices to cover higher input costs.', 'answer': 1}) (input_keys={'sentence'}),\n",
       " Example({'sentence': 'Although personally I have no doubt that quantification of the price stability objective is fully consistent with the current dual mandate, I also appreciate the delicate issues of communication raised by such a change.', 'answer': 1}) (input_keys={'sentence'}),\n",
       " Example({'sentence': 'Therefore, maximum employment (at least if interpreted as full employment or being at NAIRU) and price stability, the statutory mandate of the Federal Reserve, are compatible in the long run.', 'answer': 2}) (input_keys={'sentence'}),\n",
       " Example({'sentence': 'After falling steeply before the August FOMC meeting, emerging market equity prices were little changed, on net, over the period.', 'answer': 2}) (input_keys={'sentence'}),\n",
       " Example({'sentence': 'Nonetheless, participants viewed the housing situation and its potential further effect on employment, income, and wealth as one of the major sources of downside risk to the economic outlook.', 'answer': 0}) (input_keys={'sentence'}),\n",
       " Example({'sentence': 'October 19, 2020 U.S. Economic Outlook, Monetary Policy, and Initiatives to Sustain the Flow of Credit to Households and Firms Vice Chair Richard H. Clarida At the Unconventional Convention of the American Bankers Association, Washington, D.C. (via webcast) Share It is my pleasure to meet virtually with you today at the Unconventional Convention of the American Bankers Association.1 I look forward to my conversation with Rob Nichols,', 'answer': 2}) (input_keys={'sentence'}),\n",
       " Example({'sentence': 'His conclusion is that only by far-reaching decentralization in a market system with competition and free price-fixing is it possible to make full use of knowledge and information.', 'answer': 2}) (input_keys={'sentence'}),\n",
       " Example({'sentence': \"That's why I said that flexibility is also an important characteristic of monetary policy during a time of financial turmoil.\", 'answer': 0}) (input_keys={'sentence'}),\n",
       " Example({'sentence': 'October 12, 2021 U.S. Economic Outlook and Monetary Policy Vice Chair Richard H. Clarida At the 2021 Institute of International Finance Annual Membership Meeting: Sustainable Economic Growth and Financial Stability in a Diverging, Decarbonizing, Digitizing, Indebted World, Washington, D.C. (via webcast) Share It is my pleasure to meet virtually with you today at the 2021 Institute of International Finance Annual Membership Meeting.1 I regret that we are not meeting in person, but I look forward, as always, to a conversation with my good friend and one-time colleague Tim Adams.', 'answer': 2}) (input_keys={'sentence'}),\n",
       " Example({'sentence': 'Answering this question is central to our outlook for both of our dual-mandate goals of maximum employment and price stability.', 'answer': 1}) (input_keys={'sentence'}),\n",
       " Example({'sentence': 'With the latter displaying relative vigor, the value of domestic imports was likely to continue to exceed that of exports by a substantial margin, thereby tending to perpetuate the large current account deficits that had worrisome implications for the future.', 'answer': 1}) (input_keys={'sentence'}),\n",
       " Example({'sentence': 'But the members generally were concerned that inflation might begin to rise over the intermediate term, especially if labor markets tightened further.', 'answer': 1}) (input_keys={'sentence'}),\n",
       " Example({'sentence': 'An important element in interpreting financial market prices is the identification of the risk premiums they contain.', 'answer': 2}) (input_keys={'sentence'}),\n",
       " Example({'sentence': 'The staff continued to project that the accommodative stance of monetary policy, together with a further attenuation of financial stress, the waning of adverse effects of earlier declines in wealth, and improving household and business confidence, would support a moderate recovery in economic activity and a gradual decline in the unemployment rate over the next two years.', 'answer': 0}) (input_keys={'sentence'}),\n",
       " Example({'sentence': 'We’re also, as part of our review, looking at potential innovations, changes to the way we think about things, changes to the framework that would lead us—that would be more supportive of achieving inflation on a 2 percent—on a symmetric 2 percent basis over time.', 'answer': 2}) (input_keys={'sentence'}),\n",
       " Example({'sentence': 'So far this year, payroll employment had expanded at a faster pace than last year and the unemployment rate had declined further, although it remained elevated.', 'answer': 2}) (input_keys={'sentence'}),\n",
       " Example({'sentence': 'In the view of a number of members, rapid growth of the monetary aggregates, though it had slowed very recently, was a further indication that financial conditions were not restraining economic activity.', 'answer': 1}) (input_keys={'sentence'}),\n",
       " Example({'sentence': 'Others indicated that because part of the recent decline in the jobless rate was associated with a reduction in labor force participation, the drop in the unemployment rate likely overstated the overall improvement in the labor market.', 'answer': 0}) (input_keys={'sentence'}),\n",
       " Example({'sentence': 'indeed, inflation might edge a bit lower in the early stages of the expansion.', 'answer': 0}) (input_keys={'sentence'}),\n",
       " Example({'sentence': 'At the same time, the staff viewed the risks around its outlook for the unemployment rate as roughly balanced.', 'answer': 2}) (input_keys={'sentence'}),\n",
       " Example({'sentence': 'Inflation has continued to run below our longer-run objective, in part reflecting lower energy prices.', 'answer': 0}) (input_keys={'sentence'}),\n",
       " Example({'sentence': 'A concern that one might have about price-level targeting, as opposed to more conventional inflation targeting, is that it requires a short-term inflation rate that is higher than the long-term inflation objective.', 'answer': 2}) (input_keys={'sentence'}),\n",
       " Example({'sentence': 'Market-based measures of inflation compensation remained low', 'answer': 0}) (input_keys={'sentence'}),\n",
       " Example({'sentence': \"With today's action, the real federal funds rate--measured as the difference between the nominal funds rate and a moving average of core PCE inflation--would move slightly into positive territory.\", 'answer': 1}) (input_keys={'sentence'}),\n",
       " Example({'sentence': 'Several members noted the benefits of accumulating further information that could help clarify the contours of the outlook for economic activity and inflation as well as the need for further policy action.', 'answer': 2}) (input_keys={'sentence'}),\n",
       " Example({'sentence': 'This allows the economy to operate at a higher utilization rate without inflationary consequences, at least until the higher productivity is fully anticipated in wage bargaining or until productivity growth stops accelerating.', 'answer': 2}) (input_keys={'sentence'}),\n",
       " Example({'sentence': 'As a result, national saving increased, providing further impetus to economic growth.', 'answer': 0}) (input_keys={'sentence'}),\n",
       " Example({'sentence': 'Participants expected that, with further gradual increases in the federal funds rate, economic activity would expand at a solid rate during the remainder of this year and a moderate pace in the medium term, and that labor market conditions would remain strong.', 'answer': 1}) (input_keys={'sentence'}),\n",
       " Example({'sentence': 'Several participants raised concerns regarding the longer-run effects of the pandemic, including how it could lead to a restructuring in some sectors of the economy that could slow employment growth or could accelerate technological disruption that was likely limiting the pricing power of firms.', 'answer': 0}) (input_keys={'sentence'}),\n",
       " Example({'sentence': 'For asset purchases, the Committee declared that tapering would wait \"until substantial further progress has been made toward the Committee\\'s maximum employment and price stability goals.', 'answer': 0}) (input_keys={'sentence'}),\n",
       " Example({'sentence': \"They remarked that a stronger dollar, weaker demand, and lower oil prices were factors likely to put downward pressure on inflation in the period ahead and observed that this meant that the return of inflation to the Committee's 2 percent longer-run objective would likely be further delayed.\", 'answer': 0}) (input_keys={'sentence'}),\n",
       " Example({'sentence': 'Mishkin and Jonas (forthcoming) describe the experiences of the three transition economies with inflation targets.', 'answer': 2}) (input_keys={'sentence'}),\n",
       " Example({'sentence': 'And the way I would explain it is, is that inflation that’s too low will mean that interest rates are lower.', 'answer': 0}) (input_keys={'sentence'}),\n",
       " Example({'sentence': \"remained below the Committee's 2 percent longer-run objective, partly reflecting earlier declines in energy prices and in prices of non-energy imports.\", 'answer': 0}) (input_keys={'sentence'}),\n",
       " Example({'sentence': \"Notwithstanding these developments, some participants cautioned that progress toward the Committee's inflation objective should not be overstated\", 'answer': 2}) (input_keys={'sentence'}),\n",
       " Example({'sentence': 'After precipitous drops in March and April, employment rose strongly in May and June as many people returned to work from temporary layoffs.', 'answer': 1}) (input_keys={'sentence'}),\n",
       " Example({'sentence': 'Participants generally expected that household demand would gradually strengthen over coming quarters in response to the rise in household wealth from the substantial increase in equity prices that had occurred over the intermeeting period as well as the support for income provided by fiscal policy.', 'answer': 1}) (input_keys={'sentence'}),\n",
       " Example({'sentence': 'Improved prospects for a trade deal between the United States and China and accommodative monetary policy were cited as driving factors that outweighed weaker-than-expected announcements of corporate earnings for the fourth quarter of 2018 and earnings projections for 2019.', 'answer': 0}) (input_keys={'sentence'}),\n",
       " Example({'sentence': 'A widespread view that the Federal Reserve would take whatever steps were needed to hold down inflation over time probably had contributed to the persistence of subdued long-run inflation expectations during an extended period when rapidly rising demand was pressing on limited supply resources.', 'answer': 2}) (input_keys={'sentence'}),\n",
       " Example({'sentence': 'For example, in the mid-1970s, just when the FOMC began to specify money growth targets, econometric estimates of M1 money demand relationships began to break down, predicting faster money growth than was actually observed.', 'answer': 2}) (input_keys={'sentence'}),\n",
       " Example({'sentence': 'There is, in my view, a reasonable prospect that each of these two effects will reverse their contributions to inflation over the next couple of years and that balance between them will be important in determining the pattern of core and overall inflation rates.', 'answer': 2}) (input_keys={'sentence'}),\n",
       " Example({'sentence': 'As you said, falling oil prices pull down inflation.', 'answer': 0}) (input_keys={'sentence'}),\n",
       " Example({'sentence': 'In addition, increases in oil prices were expected to pass through to consumer energy prices.', 'answer': 1}) (input_keys={'sentence'}),\n",
       " Example({'sentence': \"Given the substantial uncertainty still attached to projections of money growth consistent with the Committee's basic objectives for monetary policy, the members agreed that there was no firm basis for changing the tentative ranges set in July 1996.\", 'answer': 2}) (input_keys={'sentence'}),\n",
       " Example({'sentence': 'At the conclusion of the discussion, the Committee voted to authorize and direct the Federal Reserve Bank of New York, until it was instructed otherwise, to execute transactions in the System Account in accordance with the following domestic policy directive: \"The Federal Open Market Committee seeks monetary and financial conditions that will foster price stability and promote sustainable growth in output.', 'answer': 1}) (input_keys={'sentence'}),\n",
       " Example({'sentence': 'Many members of the Committee, participants, have said that they think policy should be based on the actual evolution of economic activity and inflation, which tends to be variable over time, and that’s why I say I anticipate it will be data dependent.', 'answer': 2}) (input_keys={'sentence'}),\n",
       " Example({'sentence': \"Some participants also noted that recent readings on some survey measures of consumers' inflation expectations had declined or stood at historically low levels.\", 'answer': 0}) (input_keys={'sentence'}),\n",
       " Example({'sentence': 'Labor cost increases had not turned up and core inflation continued to edge lower.', 'answer': 0}) (input_keys={'sentence'}),\n",
       " Example({'sentence': 'A few observed that the combination of recent labor market improvements and continued softness in inflation had led them to lower their estimates of the longer-run normal rate of unemployment.', 'answer': 2}) (input_keys={'sentence'}),\n",
       " Example({'sentence': 'Fiscal policy was expected to be somewhat less expansionary next year, though still an important contributor to economic growth.', 'answer': 2}) (input_keys={'sentence'}),\n",
       " Example({'sentence': 'Eventually, financial markets may develop the instruments and associated analytical techniques for unearthing these implicit changes in the general price level with some precision.', 'answer': 2}) (input_keys={'sentence'}),\n",
       " Example({'sentence': \"In their review of the outlook for prices, members noted that incoming data over the intermeeting period had shown a slowing in core inflation from the high levels posted earlier in the year, consistent with the Committee's view that a portion of the earlier increase had reflected transitory factors.\", 'answer': 2}) (input_keys={'sentence'}),\n",
       " Example({'sentence': 'Moreover, investing in EMEs has become more attractive as many EMEs have improved their macroeconomic policies and institutional frameworks over recent decades; growth differentials may partly be reflecting these improvements.', 'answer': 2}) (input_keys={'sentence'}),\n",
       " Example({'sentence': 'In addition, the Survey of Terms of Business Lending conducted in the first week of November showed that interest rates on C&I loans were generally little changed while spreads remained extremely wide.', 'answer': 1}) (input_keys={'sentence'}),\n",
       " Example({'sentence': 'Participants agreed that the labor market had remained strong over the intermeeting period and that economic activity had risen at a moderate rate.', 'answer': 2}) (input_keys={'sentence'}),\n",
       " Example({'sentence': 'The persistence of underutilized resources was expected to foster some moderation in core price inflation.', 'answer': 2}) (input_keys={'sentence'}),\n",
       " Example({'sentence': 'But dividing that nominal value change into components representing changes in real quantity versus price requires that one define a unit of output that is to remain constant in all transactions over time.', 'answer': 2}) (input_keys={'sentence'}),\n",
       " Example({'sentence': 'Over the intermeeting period, yields on short- and intermediate-term nominal Treasury securities fell, while yields on inflation-indexed Treasury securities of comparable maturity increased somewhat, pushing inflation compensation considerably lower at those horizons.', 'answer': 0}) (input_keys={'sentence'}),\n",
       " Example({'sentence': 'These included a decline in the cost of business capital, a recent rise in orders and backlogs of nondefense capital goods, persisting gains in productivity that undoubtedly pointed to growing profit opportunities, progress in strengthening business balance sheets, and reduced capital overhangs.', 'answer': 1}) (input_keys={'sentence'}),\n",
       " Example({'sentence': 'the outlook for housing activity remained favorable, given an overall economic performance in line with current forecasts of a robust expansion, related growth in incomes, and still relatively attractive mortgage interest rates.', 'answer': 1}) (input_keys={'sentence'}),\n",
       " Example({'sentence': 'Price inflation had picked up a little but, abstracting from energy, had remained relatively subdued.', 'answer': 2}) (input_keys={'sentence'}),\n",
       " Example({'sentence': 'Nonetheless, with rising productivity and moderate wage gains likely continuing to help hold down unit labor costs, the outlook for subdued inflation remained promising, especially for the nearer term.', 'answer': 0}) (input_keys={'sentence'}),\n",
       " Example({'sentence': 'Household spending is increasing gradually, but remains constrained by high unemployment, modest income growth, lower housing wealth, and tight credit.', 'answer': 0}) (input_keys={'sentence'}),\n",
       " Example({'sentence': 'We have not seen wage growth pick up.', 'answer': 2}) (input_keys={'sentence'}),\n",
       " Example({'sentence': 'I think that keeping interest rates low is still appropriate for our economy.', 'answer': 0}) (input_keys={'sentence'}),\n",
       " Example({'sentence': 'At the conclusion of the discussion, the Committee voted to authorize and direct the Federal Reserve Bank of New York, until it was instructed otherwise, to execute transactions in the System Account in accordance with the following domestic policy directive: \"The Federal Open Market Committee seeks monetary and financial conditions that will foster price stability and promote sustainable growth in output.', 'answer': 1}) (input_keys={'sentence'}),\n",
       " Example({'sentence': 'In particular, incoming data and anecdotal information indicated that economic activity had appreciably more forward momentum than previously perceived and that inflation pressures could be intensifying.', 'answer': 1}) (input_keys={'sentence'}),\n",
       " Example({'sentence': 'Fourth, I will discuss the major findings of the review as codified in our new Statement on Longer-Run Goals and Monetary Policy Strategy and highlight some important policy implications that flow from them.', 'answer': 2}) (input_keys={'sentence'}),\n",
       " Example({'sentence': 'Broad equity prices rose, adding to their substantial gains since the middle of 2010.', 'answer': 2}) (input_keys={'sentence'}),\n",
       " Example({'sentence': 'First, if, as projected, core PCE inflation this year does come in at, or certainly above, 3 percent, I will consider that much more than a \"moderate\" overshoot of our 2 percent longer-run inflation objective.', 'answer': 1}) (input_keys={'sentence'}),\n",
       " Example({'sentence': 'And, as I went into detail in Jackson Hole and won’t repeat all of that there, there are other ways in which we see underutilization—high levels that have come down only very marginally of part-time employment for economic—or involuntary part-time employment, perhaps some remaining shortfall of labor force participation as a result of cyclical factors.', 'answer': 2}) (input_keys={'sentence'}),\n",
       " Example({'sentence': \"some market-based measures of inflation expectations and inflation risk suggested continuing concern among market participants about the risk of higher medium-term inflation, perhaps reflecting large fiscal deficits and the size of the Federal Reserve's balance sheet.\", 'answer': 1}) (input_keys={'sentence'}),\n",
       " Example({'sentence': 'In contrast, economic activity declined in Japan during the third quarter after a surge in the first half of the year.', 'answer': 2}) (input_keys={'sentence'}),\n",
       " Example({'sentence': 'Also, in the view of a number of participants, the economy was possibly producing in the neighborhood of its potential, and the persistent strength in spending of late suggested that resource markets could tighten further and inflation pressures build.', 'answer': 1}) (input_keys={'sentence'}),\n",
       " Example({'sentence': 'Household spending stepped up in mid-April, coinciding with the first disbursement of stimulus payments to households and a ramp-up in the payout of unemployment benefits, and showed the most pronounced increases in the states that received more benefits.9 With some of the fiscal support measures either provided as one-off payments or slated to come to an end in July, the strength of the recovery will depend importantly on the timing, magnitude, and distribution of additional fiscal support.', 'answer': 0}) (input_keys={'sentence'}),\n",
       " Example({'sentence': 'Participants noted that the timing of the resumption of growth in the U. S. economy depended on the containment measures put in place, as well as the success of those measures, and on the responses of other policies, including fiscal policy.', 'answer': 2}) (input_keys={'sentence'}),\n",
       " Example({'sentence': 'You know, it’s interest rates, it’s risk spreads, it’s currency, it’s the stock market, it’s credit availability, it’s many, many factors.', 'answer': 2}) (input_keys={'sentence'}),\n",
       " Example({'sentence': 'At the conclusion of this discussion, the Committee voted to authorize and direct the Federal Reserve Bank of New York, until it was instructed otherwise, to execute transactions in the System Account in accordance with the following domestic policy directive: The information reviewed at this meeting suggests that the expansion in economic activity is still robust.', 'answer': 2}) (input_keys={'sentence'}),\n",
       " Example({'sentence': 'The unmooring of inflation expectations greatly complicated the process of making monetary policy', 'answer': 2}) (input_keys={'sentence'}),\n",
       " Example({'sentence': 'When anticipations of Fed tapering led to higher U.S. interest rates and higher market volatility, these trades may have been quickly unwound, engendering particularly sharp declines in EME exchange rates and asset prices.', 'answer': 2}) (input_keys={'sentence'}),\n",
       " Example({'sentence': \"The Committee's accompanying statement indicated that economic growth had been quite strong so far this year.\", 'answer': 1}) (input_keys={'sentence'}),\n",
       " Example({'sentence': 'You can get to 20, if you wanted to, easily, but labor force participation, the unemployment rate, different age groups of—you know, prime-age labor force participation, in particular, gets a lot of focus, the JOLTS data get a lot of focus.', 'answer': 2}) (input_keys={'sentence'}),\n",
       " Example({'sentence': \"But, as a consequence of low interest rates, the servicing requirement for that debt relative to homeowners' income is roughly in line with the historical average.\", 'answer': 0}) (input_keys={'sentence'}),\n",
       " Example({'sentence': 'Looking ahead, the projected slowing in the growth of final sales, including the effects of weak export markets, likely would reinforce business efforts to bring the growth of their inventories into better alignment with that of their sales, and such a development should contribute to the projected slowing in overall economic activity in coming quarters.', 'answer': 0}) (input_keys={'sentence'}),\n",
       " Example({'sentence': \"The Committee's accompanying statement noted that economic growth had slowed over the course of the year, partly reflecting a substantial cooling of the housing market.\", 'answer': 0}) (input_keys={'sentence'}),\n",
       " Example({'sentence': \"The Committee would be prepared to adjust the stance of monetary policy as appropriate if risks emerge that could impede the attainment of the Committee's goals.\", 'answer': 2}) (input_keys={'sentence'}),\n",
       " Example({'sentence': 'The extent and timing of any additional firming that may be needed to address these risks will depend on the evolution of the outlook for both inflation and economic growth, as implied by incoming information.', 'answer': 1}) (input_keys={'sentence'}),\n",
       " Example({'sentence': 'Inflation was still expected to be somewhat higher this year than last year, largely reflecting an upturn in the prices for food and non-energy imports.', 'answer': 1}) (input_keys={'sentence'}),\n",
       " Example({'sentence': 'In addition, at every policy meeting, each member of the MPC is operating with the same information from the staff, and before the quarterly meetings that precede an Inflation Report, the members have sat through a number of discussions covering all aspects of the forecast.', 'answer': 2}) (input_keys={'sentence'}),\n",
       " Example({'sentence': 'I presented these estimates in my testimony to emphasize the continuing importance the profession attaches to NAIRU, the central tendency of current NAIRU estimates, and the absence of significant upward adjustments to estimates of trend growth.', 'answer': 0}) (input_keys={'sentence'}),\n",
       " Example({'sentence': 'Against the background of its long-run goals of price stability and sustainable economic growth and of the information currently available, the Committee believes that the risks continue to be weighted mainly toward conditions that may generate economic weakness in the foreseeable future.', 'answer': 0}) (input_keys={'sentence'}),\n",
       " Example({'sentence': 'Although in a number of sectors of the economy the imbalances between demand and supplyâ€”including labor supplyâ€”are substantial, I do continue to judge that these imbalances are likely to dissipate over time as the labor market and global supply chains eventually adjust and, importantly, do so without putting persistent upward pressure on price inflation and wage gains adjusted for productivity.', 'answer': 2}) (input_keys={'sentence'}),\n",
       " Example({'sentence': 'The Committee reiterated, however, that purchases were not on a preset course, and that its decisions about the pace of purchases would remain contingent on its outlook for the labor market and inflation as well as its assessment of the likely efficacy and costs of such purchases.', 'answer': 2}) (input_keys={'sentence'}),\n",
       " Example({'sentence': 'A particular phenomenon that touches on all these issues is the movement of asset prices, especially the prices of equities and residential real estate.', 'answer': 2}) (input_keys={'sentence'}),\n",
       " Example({'sentence': 'First, the significant appreciation of the dollar over the last two years has clearly had an important restraining effect on U.S. inflation, both via the direct effect on the prices of imported goods and on the pricing power of domestic firms producing import-competing goods.', 'answer': 0}) (input_keys={'sentence'}),\n",
       " Example({'sentence': 'The corresponding depreciation in other countries currencies will result in a gradual increase in the foreign currency price of U.S. exports, compared to the prices of foreign produced goods.', 'answer': 0}) (input_keys={'sentence'}),\n",
       " Example({'sentence': 'The strongest case for a link between monetary policy and changes in inflation dynamics is in the greater stability of inflation.', 'answer': 2}) (input_keys={'sentence'}),\n",
       " Example({'sentence': 'When interest rates increase, prices will undoubtedly adjust to some extent--in some cases simply by rising less rapidly than they would otherwise--and debt-service obligations will move up.', 'answer': 1}) (input_keys={'sentence'}),\n",
       " Example({'sentence': 'How the forces of demand, potential supply, and expectations interact has probably not been changed in any fundamental way by the recent trend of globalization.', 'answer': 2}) (input_keys={'sentence'}),\n",
       " Example({'sentence': 'And we were actually quite concerned that growth was not sufficient to continue to bring the unemployment rate down.', 'answer': 0}) (input_keys={'sentence'}),\n",
       " Example({'sentence': 'The System Open Market Account manager and the secretary will keep the Committee informed of ongoing developments regarding the System\\'s balance sheet that could affect the attainment over time of the Committee\\'s objectives of maximum employment and price stability. \"', 'answer': 2}) (input_keys={'sentence'}),\n",
       " Example({'sentence': 'The economy continued to perform well into 2007, with solid growth through the third quarter and unemployment remaining near recent lows.', 'answer': 1}) (input_keys={'sentence'}),\n",
       " Example({'sentence': 'Job gains had been strong, on average, in recent months, and the unemployment rate had remained low.', 'answer': 1}) (input_keys={'sentence'}),\n",
       " Example({'sentence': \"It also requires that policy tighten or ease systematically to bring aggregate demand in line with the economy's productive potential, not only because output stabilization is a policy objective in its own right\", 'answer': 1}) (input_keys={'sentence'}),\n",
       " Example({'sentence': 'A considerable literature suggests that successful monetary policies should stabilize, or \"anchor,\" inflation expectations so as to prevent them from becoming a source of instability in their own right (Goodfriend, 1993; Evans and Honkapohja, 2003).', 'answer': 1}) (input_keys={'sentence'}),\n",
       " Example({'sentence': 'Both of these views would suggest a lower level of potential output and thus reduced scope for combating unemployment with additional monetary policy stimulus.', 'answer': 0}) (input_keys={'sentence'}),\n",
       " Example({'sentence': 'First, longer-maturity obligations may be more attractive because of more stable inflation, better-anchored inflation expectations, and a reduction in economic volatility more generally.', 'answer': 0}) (input_keys={'sentence'}),\n",
       " Example({'sentence': 'But I have showed that past experience actually indicates that a reduction in vacancies can take place without a big loss of employment, and this is the kind of soft landing anticipated by FOMC participants.', 'answer': 2}) (input_keys={'sentence'}),\n",
       " Example({'sentence': 'In a virtuous circle, stable inflation expectations help the central bank to keep inflation low even as it retains substantial freedom to respond to disturbances to the broader economy.', 'answer': 1}) (input_keys={'sentence'}),\n",
       " Example({'sentence': 'and it seems to produce results not too different in practice from those associated with central banks that are flexible inflation targeters.', 'answer': 2}) (input_keys={'sentence'}),\n",
       " Example({'sentence': 'The unemployment rate was unchanged over the period between the April and June meetings,', 'answer': 2}) (input_keys={'sentence'}),\n",
       " Example({'sentence': 'But the cumulative force of recent developments appears likely to yield a slowing in the pace of growth next year.', 'answer': 0}) (input_keys={'sentence'}),\n",
       " Example({'sentence': 'In our FOMC statements, we have indicated we expect to maintain the target range at this level until we are confident that the economy has weathered recent events and is on track to achieve our maximum-employment and price-stability goals.', 'answer': 2}) (input_keys={'sentence'}),\n",
       " Example({'sentence': 'In particular, a surprise tightening of policy raises the risk premium, lowering current stock prices, and a surprise easing lowers the risk premium, raising current stock prices.', 'answer': 2}) (input_keys={'sentence'}),\n",
       " Example({'sentence': 'Future policy adjustments would depend on the evolution of the outlook for both inflation and economic growth, as implied by incoming information.', 'answer': 2}) (input_keys={'sentence'}),\n",
       " Example({'sentence': 'For a variety of reasons, oil prices already had risen appreciably since the start of the year.', 'answer': 1}) (input_keys={'sentence'}),\n",
       " Example({'sentence': 'Table 2 Distribution of Employment and of Displaced Workers by Industry Category Industry Employment Displaced Workers Restructuring 23.1 42.2 Nonrestructuring 76.9 57.8 Total 100 100 Source: Displaced Worker Supplement to the CPS.', 'answer': 2}) (input_keys={'sentence'}),\n",
       " Example({'sentence': \"Inflation averaging doesn't define how much above 2 percent is moderate and how long some value of elevated inflation should be tolerated.\", 'answer': 1}) (input_keys={'sentence'}),\n",
       " Example({'sentence': 'Our tools work on demand.', 'answer': 2}) (input_keys={'sentence'}),\n",
       " Example({'sentence': 'In terms of the, you know, inflation, a couple things—your second question.', 'answer': 2}) (input_keys={'sentence'}),\n",
       " Example({'sentence': 'Additionally, can one make any other generalizations concerning recessions that follow asset-price booms and busts and how they differ from other recessions?', 'answer': 2}) (input_keys={'sentence'}),\n",
       " Example({'sentence': 'As always, each participant’s projections are conditioned on his or her own view of appropriate monetary policy.', 'answer': 2}) (input_keys={'sentence'}),\n",
       " Example({'sentence': \"Accordingly, in the context of the Committee's long-run objectives for price stability and sustainable economic growth, and giving careful consideration to economic, financial, and monetary developments, the Committee decided that a slightly higher federal funds rate might be acceptable or a somewhat lower federal funds rate would be acceptable during the intermeeting period.\", 'answer': 2}) (input_keys={'sentence'}),\n",
       " Example({'sentence': 'Conversely, perhaps the transitory factors boosting productivity will recede more sharply than most observers anticipate, and the output gap will close more rapidly.', 'answer': 2}) (input_keys={'sentence'}),\n",
       " Example({'sentence': 'A second question is whether moving in this direction would matter much for the conduct of monetary policy in the United States.', 'answer': 2}) (input_keys={'sentence'}),\n",
       " Example({'sentence': 'The effects of reduced monetary and fiscal policy stimulus were expected to be counterbalanced by continued low long-term interest rates and an abatement of energy-related headwinds.', 'answer': 2}) (input_keys={'sentence'}),\n",
       " Example({'sentence': 'Readings on consumer price inflation had picked up somewhat mainly because of increases in oil and gasoline prices earlier in the year.', 'answer': 1}) (input_keys={'sentence'}),\n",
       " Example({'sentence': 'In the household sector, the rise in home mortgage debt likely slowed a bit further in the first quarter, as home-price appreciation appeared to have remained sluggish.', 'answer': 2}) (input_keys={'sentence'}),\n",
       " Example({'sentence': 'In light of increased uncertainties and muted inflation pressures, we now emphasize that the Committee will closely monitor the implications of incoming information for the economic outlook and will act as appropriate to sustain the expansion with a strong labor market and inflation near its 2 percent objective.', 'answer': 0}) (input_keys={'sentence'}),\n",
       " Example({'sentence': 'I’m old enough to remember what very high inflation was like.', 'answer': 2}) (input_keys={'sentence'}),\n",
       " Example({'sentence': 'inflation was projected to pick up gradually in association with a partial reversal of the decline in energy prices this year.', 'answer': 2}) (input_keys={'sentence'}),\n",
       " Example({'sentence': 'Moreover, theory and intuition tell us that monetary credibility will be greatest when the central bank does what it is supposed to do: offset economic shocks to keep price pressures from building and thereby keep inflation itself low and stable.', 'answer': 1}) (input_keys={'sentence'}),\n",
       " Example({'sentence': 'First, we must be mindful that an unexpected slowdown might occur in the growth of productivity.', 'answer': 1}) (input_keys={'sentence'}),\n",
       " Example({'sentence': 'The U. S. international trade deficit narrowed in May, as a large increase in exports of goods and services more than offset a moderate increase in imports.', 'answer': 0}) (input_keys={'sentence'}),\n",
       " Example({'sentence': 'All members agreed that the risks to achieving the anticipated reduction in inflation remained of greatest concern.', 'answer': 1}) (input_keys={'sentence'}),\n",
       " Example({'sentence': \"Consistent with the Committee's decision to leave the target range for the federal funds rate unchanged, the Board of Governors voted unanimously to leave the interest rates on required and excess reserve balances at 0.\", 'answer': 2}) (input_keys={'sentence'}),\n",
       " Example({'sentence': 'Indeed, virtually every forecast projects a modest rise in broad measures of U.S. inflation this year, reflecting the dissipation or reversal of favorable supply shocks, most importantly the reversal in the path of oil prices, the stabilization of commodity prices and non-oil import prices, and some rebound in health care costs.', 'answer': 1}) (input_keys={'sentence'}),\n",
       " Example({'sentence': 'Employment continued to expand unevenly,', 'answer': 2}) (input_keys={'sentence'}),\n",
       " Example({'sentence': 'It would have been difficult for the Committee to put forward a 7 percent unemployment goal when the current program started and unemployment was 8.1 percent; this would have involved a lot of uncertainty about the magnitude of asset purchases required to reach this goal.', 'answer': 0}) (input_keys={'sentence'}),\n",
       " Example({'sentence': 'I don’t think we look at—I understand what you’re asking, but we’re looking at—our mandate is price inflation and maximum employment, and that’s what we’re looking at with setting interest rates.', 'answer': 0}) (input_keys={'sentence'}),\n",
       " Example({'sentence': 'Implications for Monetary Policy The period from 1950 through the early 1980s provides two important lessons for managing the risks and uncertainties we face today.', 'answer': 2}) (input_keys={'sentence'}),\n",
       " Example({'sentence': 'At the conclusion of the discussion, the Committee voted to authorize and direct the Federal Reserve Bank of New York, until it was instructed otherwise, to execute transactions in the SOMA in accordance with the following domestic policy directive: \"Consistent with its statutory mandate, the Federal Open Market Committee seeks monetary and financial conditions that will foster maximum employment and price stability.', 'answer': 0}) (input_keys={'sentence'}),\n",
       " Example({'sentence': 'But I think that that’s a prudent move, to move in a gradual way to remove Chair Yellen’s Press Conference FINAL accommodation, with unemployment now—and not only, I should say, the unemployment rate, but I think any indicator of labor market performance and tightness that you could look at, whether it’s household perceptions of the availability of jobs, difficulty that firms report in hiring workers, the rate at which workers are quitting their jobs, the rate of job openings, all of these indicators do signal a tight labor market.', 'answer': 1}) (input_keys={'sentence'}),\n",
       " Example({'sentence': 'They also generally expected that inflation would remain, for some time, below levels the Committee considers most consistent, over the longer run, with maximum employment and price stability.', 'answer': 0}) (input_keys={'sentence'}),\n",
       " Example({'sentence': 'Although in a number of sectors of the economy the imbalances between demand and supplyâ€”including labor supplyâ€”are substantial, I do continue to judge that these imbalances are likely to dissipate over time as the labor market and global supply chains eventually adjust and, importantly, do so without putting persistent upward pressure on price inflation, wage gains adjusted for productivity, and the 2 percent longer-run inflation objective.', 'answer': 2}) (input_keys={'sentence'}),\n",
       " Example({'sentence': 'Private nonfarm payroll employment increased appreciably on balance over September and October.', 'answer': 1}) (input_keys={'sentence'}),\n",
       " Example({'sentence': 'The slowing economy, together with rising interest rates, was in turn a major factor in precipitating the stock market crash.', 'answer': 2}) (input_keys={'sentence'}),\n",
       " Example({'sentence': 'So we do say that risks to the financial system—we say in our longer-run statement of goals and monetary policy strategy that risks to the financial system that could prevent us from achieving our goals are something that we do take into consideration.', 'answer': 2}) (input_keys={'sentence'}),\n",
       " Example({'sentence': 'This is yet another concerningly high reading, and it set another 40-year record high despite the expectation of many forecasters that inflation had peaked earlier in the year.', 'answer': 1}) (input_keys={'sentence'}),\n",
       " Example({'sentence': 'Industrial production picked up in response to the advance in final demand and a slowdown in the runoff of excess inventory stocks.', 'answer': 2}) (input_keys={'sentence'}),\n",
       " Example({'sentence': 'In addition, the May 1, 2019 trimmed mean measures of inflation did not go down as much.', 'answer': 1}) (input_keys={'sentence'}),\n",
       " Example({'sentence': 'Low readings on overall and core consumer price inflation in recent months, as well as the weakened economic outlook, kept near-term inflation expectations reported in surveys well below their high levels in mid-2008.', 'answer': 0}) (input_keys={'sentence'}),\n",
       " Example({'sentence': 'Those indicators were mixed regarding the pace of economic activity within the manufacturing sector.', 'answer': 2}) (input_keys={'sentence'}),\n",
       " Example({'sentence': 'The possibility that longer-term inflation expectations may have edged down was roughly counterbalanced by the risks that somewhat firmer inflation this year could be more persistent than expected, particularly in an economy that was projected to continue operating above its long-run potential.', 'answer': 1}) (input_keys={'sentence'}),\n",
       " Example({'sentence': 'With inflation low and resource use slack, the Committee saw no need for tightening policy in the near future.', 'answer': 2}) (input_keys={'sentence'}),\n",
       " Example({'sentence': 'Same thing with economic activity.', 'answer': 2}) (input_keys={'sentence'}),\n",
       " Example({'sentence': 'However, participants remarked that the actual rise in inflation was larger than anticipated, with the 12-month change in the PCE price index reaching 3.', 'answer': 1}) (input_keys={'sentence'}),\n",
       " Example({'sentence': 'It was observed that, after the early 1980s, the pass-through of energy prices into core inflation had been quite limited, suggesting that, in current circumstances, core inflation could stay relatively low and overall inflation would probably drop back if inflation expectations remained contained.', 'answer': 2}) (input_keys={'sentence'}),\n",
       " Example({'sentence': 'The second requirement contributes to the first and also to smoothing fluctuations in output around full employment.', 'answer': 0}) (input_keys={'sentence'}),\n",
       " Example({'sentence': 'And in so far as that will affect monetary policy, of course we will have to factor those policies along with many other things, including the global environment and oil prices and other matters.', 'answer': 2}) (input_keys={'sentence'}),\n",
       " Example({'sentence': 'But in terms of just targeting growth, you know, I think—I actually think our dual mandate works very well, which is maximum employment and stable prices.', 'answer': 2}) (input_keys={'sentence'}),\n",
       " Example({'sentence': 'Rather, it is that the underlying sources of productivity growth are very complex.', 'answer': 0}) (input_keys={'sentence'}),\n",
       " Example({'sentence': 'Participants anticipated that inflation would continue to gradually rise as resource utilization tightened further and as wage pressures became more apparent', 'answer': 1}) (input_keys={'sentence'}),\n",
       " Example({'sentence': 'First, the projected rates of productivity gains and potential output growth over the medium term were trimmed.', 'answer': 0}) (input_keys={'sentence'}),\n",
       " Example({'sentence': 'However, if real (or nominal) government spending is held constant, the surplus will rise over time as a share of GDP, putting downward pressure on the equilibrium real rate, offsetting, at least in part, the effect on the real rate of the higher trend productivity.', 'answer': 0}) (input_keys={'sentence'}),\n",
       " Example({'sentence': 'As a result, recent high inflation readings are transitory and not broad based.', 'answer': 1}) (input_keys={'sentence'}),\n",
       " Example({'sentence': 'In the September Senior Credit Officer Opinion Survey on Dealer Financing Terms (SCOOS), dealers indicated, on net, that they loosened credit terms applicable to several important classes of counterparties and types of collateral over the past three months amid increased demand for funding for most types of securities covered in the survey.', 'answer': 2}) (input_keys={'sentence'}),\n",
       " Example({'sentence': 'But we are also searching for an absolute concept, the point of balance between supply and demand in the respective markets that divides excess demand from excess supply--in effect, the origin in a diagram relating inflation to excess demand and supply.', 'answer': 2}) (input_keys={'sentence'}),\n",
       " Example({'sentence': 'Some participants stated that low interest rates appeared to be contributing to strong sales of autos or, more generally, of consumer durables.', 'answer': 2}) (input_keys={'sentence'}),\n",
       " Example({'sentence': 'Fast growth of productivity, by buoying expectations of future advances of wages and earnings and thus aggregate demand, enables real interest rates to be higher than would otherwise be the case without restricting economic growth.', 'answer': 1}) (input_keys={'sentence'}),\n",
       " Example({'sentence': 'This modal projection for the path of the unemployment rate is, according to the Atlanta Fed jobs calculator, consistent with a rebound in labor force participation to its estimated demographic trend and is also consistent with cumulative employment gains this year and next that, by the end of 2022, eliminate the 7 million \"employment gap\" relative to the previous cycle peak I mentioned earlier.5 As is the case for GDP growth and the unemployment rate, my projections for headline and core PCE (personal consumption expenditures) inflation are also similar to the paths of the SEP median of modal projections for these variables.', 'answer': 2}) (input_keys={'sentence'}),\n",
       " Example({'sentence': 'Even after adjusting for the effects of strikes on reported payrolls, the employment report for August showed weak job gains.', 'answer': 0}) (input_keys={'sentence'}),\n",
       " Example({'sentence': 'In these circumstances, I believe, it is appropriate to put greater weight on incoming data to determine whether the stance of monetary policy should be changed.', 'answer': 2}) (input_keys={'sentence'}),\n",
       " Example({'sentence': 'Such a jump could raise core inflation temporarily if it is passed through to other prices or if it contributes to increasing inflation expectations.', 'answer': 1}) (input_keys={'sentence'}),\n",
       " Example({'sentence': 'On average, over the period from November 2020 to January 2021, the fraction of prime-age women with children aged 6 to 17 who were out of the labor force for caregiving had increased by 2.4 percentage points from a year earlier, while for men the fraction had increased by about 0.6 percentage point.5 If not soon reversed, the decline in the participation rate for primeâ€‘age women could have scarring effects, with longer-term implications for household incomes and potential growth.6 Roughly 90 percent of the shortfall in private payroll employment relative to the pre-COVID level is concentrated in service-providing industries, with half of these service job losses in leisure and hospitality.', 'answer': 0}) (input_keys={'sentence'}),\n",
       " Example({'sentence': 'Members also agreed that there was only a remote possibility that the process of disinflation would cumulate to the point of a decline for an extended period in the general price level.', 'answer': 2}) (input_keys={'sentence'}),\n",
       " Example({'sentence': 'Members again mentioned concerns on the part of business contacts regarding the adverse economic implications of very large deficits for the economy over the longer term.', 'answer': 0}) (input_keys={'sentence'}),\n",
       " Example({'sentence': 'Household expenditures on new homes were likewise at an elevated level, although members reported weakness in some price segments and geographic areas of the housing market.', 'answer': 1}) (input_keys={'sentence'}),\n",
       " Example({'sentence': 'However, some areas that were affected by the slowdown in the energy sector experienced house price declines or increases in mortgage delinquency rates.', 'answer': 0}) (input_keys={'sentence'}),\n",
       " Example({'sentence': 'But even for many other workers, a rapidly evolving work environment in which the skill demands of their jobs are changing can lead to very real anxiety and insecurity about losing their jobs.', 'answer': 2}) (input_keys={'sentence'}),\n",
       " Example({'sentence': 'They noted that the realization of such a development could make it harder for the Committee to achieve 2 percent inflation over the longer run.', 'answer': 2}) (input_keys={'sentence'}),\n",
       " Example({'sentence': 'Very low inflation and deflation pose qualitatively similar economic problems, though the magnitude of the associated costs can be expected to increase sharply as deflationary pressures intensify.', 'answer': 0}) (input_keys={'sentence'}),\n",
       " Example({'sentence': 'The recent decline in mortgage rates had sparked some refinancing and purchase activity, but the extent of the longer-term impact of lower rates on housing demand remained uncertain.', 'answer': 0}) (input_keys={'sentence'}),\n",
       " Example({'sentence': 'Major reasons for optimism about the outlook were the substantial easing in monetary policy, whose lagged effects would be felt increasingly in the year ahead, and the fiscal stimulus measures that already had been enacted and might well be supplemented over coming months.', 'answer': 0}) (input_keys={'sentence'}),\n",
       " Example({'sentence': \"Participants' Views and Committee Policy ActionIn conjunction with this FOMC meeting, all meeting participants--the five members of the Board of Governors and the presidents of the 12 Federal Reserve Banks--provided projections for economic growth, the unemployment rate, and consumer price inflation for each year from 2009 through 2011 and over a longer horizon.\", 'answer': 2}) (input_keys={'sentence'}),\n",
       " Example({'sentence': 'The unemployment rate ticked down to 5.', 'answer': 1}) (input_keys={'sentence'}),\n",
       " Example({'sentence': 'The effect can be accentuated by the temporary parking in liquid accounts of the proceeds from the more-frequent turnover and refinancings that often accompany a house price boom.', 'answer': 1}) (input_keys={'sentence'}),\n",
       " Example({'sentence': 'In agriculture, depressed levels of crop prices and weak global demand continued to weaken farm income.', 'answer': 0}) (input_keys={'sentence'}),\n",
       " Example({'sentence': 'So those who can get credit, together with the low prices of houses, are at—able to buy much more house than they could have a few years ago.', 'answer': 0}) (input_keys={'sentence'}),\n",
       " Example({'sentence': 'The Committee expects these effects to be transitory, but it will pay close attention to the evolution of inflation and inflation expectations.', 'answer': 2}) (input_keys={'sentence'}),\n",
       " Example({'sentence': 'Specifically, the projections converged on CPI inflation rates of 2-1/4 to 2-1/2 percent in 1997 and 2-1/2 to 3 percent in 1998.', 'answer': 2}) (input_keys={'sentence'}),\n",
       " Example({'sentence': 'Nonetheless, the current account deficit continued to grow as a result of the surge in U.S. investment and productivity and the associated capital inflows seeking the higher U.S. rates of return.', 'answer': 1}) (input_keys={'sentence'}),\n",
       " Example({'sentence': 'In their discussion of monetary policy for the period ahead, members agreed that it would be appropriate to maintain the existing highly accommodative stance of monetary policy.', 'answer': 0}) (input_keys={'sentence'}),\n",
       " Example({'sentence': 'And that is a statement about productivity growth, which has been pretty disappointing.', 'answer': 1}) (input_keys={'sentence'}),\n",
       " Example({'sentence': 'still outpace that of potential over this period, leading to a decline in the unemployment rate to historically low levels, as monetary policy was assumed to remain highly accommodative.', 'answer': 0}) (input_keys={'sentence'}),\n",
       " Example({'sentence': 'Some members nonetheless referred to indications of increasing expenditures for various categories of high-tech equipment and software, and they noted that impetus to demand from a positive outcome in the war against Iraq should have a favorable effect on business capital spending, especially if it were accompanied by a rally in the stock market.', 'answer': 2}) (input_keys={'sentence'}),\n",
       " Example({'sentence': 'The reserve conditions contemplated at this meeting were expected to be consistent with some moderation in the growth of M2 and M3 over coming months.', 'answer': 2}) (input_keys={'sentence'}),\n",
       " Example({'sentence': \"the new statement maintains our definition that the longer-run goal for inflation is 2 percent, it elevates the importanceâ€”and the challengeâ€”of keeping inflation expectations well anchored at 2 percent in a world in which an effective-lower-bound constraint is, in downturns, binding on the federal funds rate.5 To this end, the new statement conveys the Committee's judgment that, in order to anchor expectations at the 2 percent level consistent with price stability, it will conduct policy to achieve inflation outcomes that keep long-run inflation expectations anchored at our 2 percent longer-run goal.\", 'answer': 1}) (input_keys={'sentence'}),\n",
       " Example({'sentence': 'In the household sector, the ongoing deceleration in house prices further restrained the growth of home mortgage debt.', 'answer': 0}) (input_keys={'sentence'}),\n",
       " Example({'sentence': 'For 1998, the Committee agreed on a tentative basis to set the same ranges as in 1997 for growth of the monetary aggregates and debt, measured from the fourth quarter of 1997 to the fourth quarter of 1998.', 'answer': 2}) (input_keys={'sentence'}),\n",
       " Example({'sentence': 'At the conclusion of the discussion, the Committee voted to authorize and direct the Federal Reserve Bank of New York, until it was instructed otherwise, to execute transactions in the System Account in accordance with the following domestic policy directive: \"The Federal Open Market Committee seeks monetary and financial conditions that will foster price stability and promote sustainable growth in output.', 'answer': 1}) (input_keys={'sentence'}),\n",
       " Example({'sentence': 'That’s not going to happen without, without restoring price stability.', 'answer': 1}) (input_keys={'sentence'}),\n",
       " Example({'sentence': \"These participants stated that, in such circumstances, a major challenge facing policymakers—especially in the presence of the effective lower bound on the federal funds rate—was to maintain a policy stance sufficiently accommodative to keep average inflation at 2 percent and thereby bolster the credibility of the Committee's new policy framework, facilitating the achievement of both maximum employment and price stability.\", 'answer': 0}) (input_keys={'sentence'}),\n",
       " Example({'sentence': \"Subsequently, investors revised down the expected policy path after the June employment report and the Chairman's semiannual monetary policy testimony.\", 'answer': 0}) (input_keys={'sentence'}),\n",
       " Example({'sentence': \"In their discussion of considerations related to asset purchases, various participants noted that these purchases were an important part of the monetary policy toolkit and a critical aspect of the Federal Reserve's response to the economic effects of the pandemic, supporting smooth financial market functioning and accommodative financial conditions, which aided the flow of credit to households and businesses and supported the recovery.\", 'answer': 0}) (input_keys={'sentence'}),\n",
       " Example({'sentence': 'Members commented that the continued strong increases in energy and other commodity prices would prompt a difficult adjustment process involving both lower growth and higher rates of inflation in the near term.', 'answer': 2}) (input_keys={'sentence'}),\n",
       " Example({'sentence': 'A number of commodity price indexes have indeed risen sharply over the past couple of years, including a large jump in the past several months.', 'answer': 2}) (input_keys={'sentence'}),\n",
       " Example({'sentence': 'As of this month, the maximum monthly reduction in the balance sheet will be nearly double the level of the previous cycle.10 Together, the increase in the policy rate and the reduction in the balance sheet should help bring demand into alignment with supply.', 'answer': 1}) (input_keys={'sentence'}),\n",
       " Example({'sentence': 'Just as in the earlier analysis of Ammer and Freeman, this analysis suggested that in all three countries the inflation targeting led to a drop in inflation and nominal interest rates.', 'answer': 0}) (input_keys={'sentence'}),\n",
       " Example({'sentence': \"We said that we expect to maintain an accommodative stance of monetary policy until these outcomesâ€”as well as our maximum-employment mandateâ€”are achieved, and also that we expect it will be appropriate to maintain the current 0 to 1/4 percent target range for the federal funds rate until labor market conditions have reached levels consistent with the Committee's assessments of maximum employment, until inflation has risen to 2 percent, and until inflation is on track to moderately exceed 2 percent for some time.\", 'answer': 0}) (input_keys={'sentence'}),\n",
       " Example({'sentence': 'too pessimistic on job creation and the decline in the unemployment rate.', 'answer': 0}) (input_keys={'sentence'}),\n",
       " Example({'sentence': 'Consumer sentiment was at or close to historically high levels according to recent surveys, evidently reflecting the strong uptrend in employment and income and to some extent the very large cumulative increase in stock market wealth over the course of recent years.', 'answer': 1}) (input_keys={'sentence'}),\n",
       " Example({'sentence': 'If the prices are wrong -- built on the base on an incorrect view of the economy or Federal Reserve intentions -- we will prove them wrong and provide an anchor for the market to adjust to.', 'answer': 2}) (input_keys={'sentence'}),\n",
       " Example({'sentence': 'Many members were concerned about the still-sensitive state of financial markets and thought that an easing of policy would help to support improvements in market functioning, thereby mitigating some of the downside risks to economic growth.', 'answer': 0}) (input_keys={'sentence'}),\n",
       " Example({'sentence': 'also how far it will fall and if it will fall soon enough to avoid spurring a concerning rise in longer-term inflation expectations.', 'answer': 1}) (input_keys={'sentence'}),\n",
       " Example({'sentence': 'This is an example of offsetting the attenuation in the response to the output gap with a more aggressive response to inflation realizations.', 'answer': 1}) (input_keys={'sentence'}),\n",
       " Example({'sentence': 'The vote also encompassed approval of the sentence below for inclusion in the press statement to be released shortly after the meeting: Against the background of its long-run goals of price stability and sustainable economic growth and of the information currently available, the Committee believes that the risks are weighted mainly toward conditions that may generate heightened inflation pressures in the foreseeable future.', 'answer': 1}) (input_keys={'sentence'}),\n",
       " Example({'sentence': 'I think the—you know, in a way, the least tight aspect of it is, is looking at the unemployment rate, which is still below our median estimate of, of [the unemployment rate consistent with] maximum employment.', 'answer': 0}) (input_keys={'sentence'}),\n",
       " Example({'sentence': \"In connection with the risks associated with an early start to policy normalization, many participants observed that a premature increase in rates might damp the apparent solid recovery in real activity and labor market conditions, undermining progress toward the Committee's objectives of maximum employment and 2 percent inflation.\", 'answer': 2}) (input_keys={'sentence'}),\n",
       " Example({'sentence': 'Another factor viewed as likely to exert a moderating effect on the growth of economic activity was the expectation of some slowing in inventory investment.', 'answer': 2}) (input_keys={'sentence'}),\n",
       " Example({'sentence': \"Participants' Views on Current Economic Conditions and the Economic Outlook In conjunction with this FOMC meeting, participants submitted their projections of the most likely outcomes for real GDP growth, the unemployment rate, and inflation for each year from 2021 through 2024 and over the longer run based on their individual assessments of appropriate monetary policy, including the path of the federal funds rate.\", 'answer': 2}) (input_keys={'sentence'}),\n",
       " Example({'sentence': 'Although a spike in energy prices eroded real income growth in the second quarter, there were solid gains in wages and salaries.', 'answer': 1}) (input_keys={'sentence'}),\n",
       " Example({'sentence': 'Despite the substantial monetary easing that had been implemented already and the fiscal stimulus, including federal tax rebates, that was in train, the forecast anticipated that sluggish hiring and the decline in household wealth would restrain the growth of both consumer spending and housing demand.', 'answer': 0}) (input_keys={'sentence'}),\n",
       " Example({'sentence': 'The American economy is very strong and well positioned to handle tighter monetary policy.', 'answer': 1}) (input_keys={'sentence'}),\n",
       " Example({'sentence': 'During expansions, equity prices tend to rise, although they often decline before a downturn in the economy.', 'answer': 2}) (input_keys={'sentence'}),\n",
       " Example({'sentence': 'We also don’t conduct monetary policy in order to prove our independence.', 'answer': 2}) (input_keys={'sentence'}),\n",
       " Example({'sentence': 'He also judged that the policy step would do little to improve near-term growth prospects, given the ongoing structural adjustments and external challenges faced by the U. S. economy.', 'answer': 2}) (input_keys={'sentence'}),\n",
       " Example({'sentence': 'You know, we’re, we’re—inflation measures are always going to be a bit volatile.', 'answer': 2}) (input_keys={'sentence'}),\n",
       " Example({'sentence': \"However, if incoming information indicates faster progress toward the Committee's employment and inflation objectives than the Committee now expects, then increases in the target range for the federal funds rate are likely to occur sooner than currently anticipated.\", 'answer': 1}) (input_keys={'sentence'}),\n",
       " Example({'sentence': 'Experienced loan officers who are well acquainted with their markets can channel funds into the loans that are most likely to create wealth and growth in the local economy.', 'answer': 2}) (input_keys={'sentence'}),\n",
       " Example({'sentence': 'To measure productivity and standards of living we need measures of output but, to measure output, we need to be able to define products clearly and in terms of units that do not change from one period to the next.', 'answer': 2}) (input_keys={'sentence'}),\n",
       " Example({'sentence': \"Of the 1,700 Washington employees, roughly 250 are Ph.D. economists, the majority of whom support the Board's monetary policy responsibilities.\", 'answer': 2}) (input_keys={'sentence'}),\n",
       " Example({'sentence': 'But, in the interim, the absence of increasing inflation pressures meant that the Federal Reserve did not need to tighten to bring demand back in line with the potential as soon as it otherwise might have needed to.', 'answer': 0}) (input_keys={'sentence'}),\n",
       " Example({'sentence': 'These downside risks were seen as essentially counterbalanced by the upside risk that inflation could increase more than expected in an economy that was projected to move further above its longer-run potential.', 'answer': 1}) (input_keys={'sentence'}),\n",
       " Example({'sentence': 'Moreover, anecdotal evidence suggested that most firms had little ability to raise their prices in the current economic environment.', 'answer': 1}) (input_keys={'sentence'}),\n",
       " Example({'sentence': 'In our new framework, we acknowledge that policy decisions going forward will be based on the FOMC\\'s estimates of \"shortfalls [emphasis added] of employment from its maximum level\"â€”not \"deviations.', 'answer': 0}) (input_keys={'sentence'}),\n",
       " Example({'sentence': \"Monetary Policy in a World without Treasuries Today, monetary policy decisions are implemented through a mix of outright purchases and sales of assets held in the Fed's portfolio, temporary operations through repurchase agreements, and discount window loans.2 It seems to me that the same three operations, though perhaps in different proportions, could be used in the absence of Treasury securities.\", 'answer': 2}) (input_keys={'sentence'}),\n",
       " Example({'sentence': 'An unexpectedly sharp increase in wages or inflation could tell you that you’re reaching those points.', 'answer': 1}) (input_keys={'sentence'}),\n",
       " Example({'sentence': 'Therefore, even in the case of personal computers, where we have made such great strides in measuring quality changes, I suspect that important phenomena still may not be adequately captured by our published price indexes.', 'answer': 2}) (input_keys={'sentence'}),\n",
       " Example({'sentence': 'M3 growth slowed less than that of M2 in November, in part because of stepped-up issuance of large time deposits as banks reduced their reliance on funding from overseas offices.', 'answer': 1}) (input_keys={'sentence'}),\n",
       " Example({'sentence': 'In discussing the effect of labor market conditions on inflation, a number of participants expressed skepticism about recent studies suggesting that long-term unemployment provides less downward pressure on wage and price inflation than short-term unemployment does.', 'answer': 2}) (input_keys={'sentence'}),\n",
       " Example({'sentence': 'From a policy perspective, a difficulty with all these measures is that they reflect expectations of headline inflation rather than the core inflation measures usually emphasized in the monetary policy context.', 'answer': 2}) (input_keys={'sentence'}),\n",
       " Example({'sentence': 'It was the year of synchronized global growth.', 'answer': 2}) (input_keys={'sentence'}),\n",
       " Example({'sentence': 'Of course, many other factors also influence inflation, and some of these provide other possible explanations for the recent changes in inflation dynamics.', 'answer': 2}) (input_keys={'sentence'}),\n",
       " Example({'sentence': \"The guidance on asset purchases, introduced in December, commits us to increasing our holdings of securities at least at the current pace until substantial further progress has been made toward the Committee's maximum-employment and price-stability goals.\", 'answer': 0}) (input_keys={'sentence'}),\n",
       " Example({'sentence': 'If the outlook for the labor market does not improve substantially, the Committee will continue its purchases of agency mortgage-backed securities, undertake additional asset purchases, and employ its other policy tools as appropriate until such improvement is achieved in a context of price stability.', 'answer': 0}) (input_keys={'sentence'}),\n",
       " Example({'sentence': 'In this less comfortable world, restoring price stability can involve a painful process of slow growth and elevated unemployment.', 'answer': 1}) (input_keys={'sentence'}),\n",
       " Example({'sentence': 'We want to see lower unemployment.', 'answer': 0}) (input_keys={'sentence'}),\n",
       " Example({'sentence': 'And that’s because of this misalignment between supply and demand.', 'answer': 2}) (input_keys={'sentence'}),\n",
       " Example({'sentence': 'These communications were, as you would expect, biased--they were all in response to decisions to raise interest rates and most often occurred when those increases came shortly before an election.', 'answer': 1}) (input_keys={'sentence'}),\n",
       " Example({'sentence': 'About two years after the onset of the financial crisis, the ECI moved up slightly in 2010 and then remained essentially flat at an annual growth rate of 2 percent over a five-year period between 2010 and 2015.', 'answer': 2}) (input_keys={'sentence'}),\n",
       " Example({'sentence': 'Productivity Growth and Cost Reductions So, what happened?', 'answer': 2}) (input_keys={'sentence'}),\n",
       " Example({'sentence': 'I look forward to my conversation with Steve Liesman and to your questions, but first, please allow me to offer a few remarks on the economic outlook, Federal Reserve monetary policy, and our new monetary policy framework.', 'answer': 2}) (input_keys={'sentence'}),\n",
       " Example({'sentence': 'In December 1996, before my time at the Board, John Campbell of Harvard and Robert Shiller of Yale made a presentation at the Fed, in which they used dividend-price ratios and related measures to argue that the stock market was overvalued.', 'answer': 2}) (input_keys={'sentence'}),\n",
       " Example({'sentence': 'PCE core is at about 2, and I think we see that, you know, the temporary increase in headline inflation as being a function of oil prices probably, and we expect inflation to go back down to 2 percent.', 'answer': 1}) (input_keys={'sentence'}),\n",
       " Example({'sentence': 'The Committee directs the Desk to purchase GSE debt, GSE-guaranteed MBS, and longer-term Treasury securities during the intermeeting period with the aim of providing support to private credit markets and economic activity.', 'answer': 0}) (input_keys={'sentence'}),\n",
       " Example({'sentence': 'Some price increases had been noted', 'answer': 1}) (input_keys={'sentence'}),\n",
       " Example({'sentence': 'Tax rebates, declining energy prices, and widespread discounting of retail prices were cited as positive factors in support of consumer spending on a wide range of goods and services.', 'answer': 2}) (input_keys={'sentence'}),\n",
       " Example({'sentence': 'For 2000, the Committee agreed on a tentative basis in June to retain the same ranges for growth of the monetary aggregates and debt, measured from the fourth quarter of 1999 to the fourth quarter of 2000.', 'answer': 2}) (input_keys={'sentence'}),\n",
       " Example({'sentence': 'Nonetheless, on balance, most members currently considered the upside risks to inflation to be a bit less pressing than those on the downside for the next few quarters.', 'answer': 0}) (input_keys={'sentence'}),\n",
       " Example({'sentence': 'Household spending was projected to grow at a fairly solid rate, supported by higher employment and somewhat lower energy prices but damped somewhat by lessened stimulus from gains in wealth and the need for households to rebuild savings.', 'answer': 1}) (input_keys={'sentence'}),\n",
       " Example({'sentence': 'While great uncertainty regarding the path of fiscal policy and its economic effects will remain for some time, with the economy getting closer to full employment, the prospect of a material increase in fiscal stimulus over a sustained period could reasonably be expected to shift somewhat greater probability toward stronger inflation outcomes.', 'answer': 1}) (input_keys={'sentence'}),\n",
       " Example({'sentence': \"However, asset purchases are not on a preset course, and the Committee's decisions about their pace will remain contingent on the Committee's outlook for the labor market and inflation as well as its assessment of the likely efficacy and costs of such purchases.\", 'answer': 2}) (input_keys={'sentence'}),\n",
       " Example({'sentence': 'And so what that means is the Federal Reserve cannot add monetary accommodation by cutting short-term interest rates, the usual approach.', 'answer': 2}) (input_keys={'sentence'}),\n",
       " Example({'sentence': 'But there’s also a role for monetary policy.', 'answer': 2}) (input_keys={'sentence'}),\n",
       " Example({'sentence': 'While liquid deposits continued to grow slowly, heightened demand for safety and liquidity appeared to boost holdings of retail money market mutual funds.', 'answer': 1}) (input_keys={'sentence'}),\n",
       " Example({'sentence': 'Of course, we can’t do anything about long-run employment opportunities, but we can help the economy recover more quickly.', 'answer': 0}) (input_keys={'sentence'}),\n",
       " Example({'sentence': 'It was a question of not getting inflation up to our target on a robust, symmetric kind of a way.', 'answer': 0}) (input_keys={'sentence'}),\n",
       " Example({'sentence': 'In the Committee’s discussion of monetary policy for the intermeeting period, nearly all members favored keeping the target federal funds rate at 5-1/4 percent at this meeting.', 'answer': 2}) (input_keys={'sentence'}),\n",
       " Example({'sentence': 'Although some members noted that a case could be made that the risks to inflation were now somewhat skewed to the upside and those to sustainable economic growth perhaps to the downside, the most likely outcome remained one of stable prices and sustainable growth, and the Committee agreed that it should retain a balanced assessment of risks conditional on appropriate policy.', 'answer': 2}) (input_keys={'sentence'}),\n",
       " Example({'sentence': 'The nominal deficit on U. S. trade in goods and services widened substantially in the second quarter.', 'answer': 1}) (input_keys={'sentence'}),\n",
       " Example({'sentence': 'In spite of having such slow growth, disappointing productivity growth, we have a labor market that last year generated an average of about 230,000 jobs a month and so far this year has been generating about 180,000 jobs a month.', 'answer': 1}) (input_keys={'sentence'}),\n",
       " Example({'sentence': 'It will be a while before we can be sure that a self-sustaining expansion is underway of sufficient strength and persistence to put the economy back on a path toward full employment.', 'answer': 0}) (input_keys={'sentence'}),\n",
       " Example({'sentence': 'however, apart from the energy and health care sectors, price inflation had remained relatively subdued, evidently reflecting the combination of diminished growth in overall demand and strong competitive pressures in most markets.', 'answer': 0}) (input_keys={'sentence'}),\n",
       " Example({'sentence': 'Conclusion The United States productivity growth spurt, realized to a much lesser extent around the world, can be attributed largely to a combination of an investment boom and a technological revolution.', 'answer': 0}) (input_keys={'sentence'}),\n",
       " Example({'sentence': \"First, insofar as recent productivity growth is concerned, I have a serious question about the quality of the data that we employ to measure output in today's economy.\", 'answer': 2}) (input_keys={'sentence'}),\n",
       " Example({'sentence': 'Recent data suggested that growth of household spending had picked up, while business fixed investment had continued to grow strongly.', 'answer': 1}) (input_keys={'sentence'}),\n",
       " Example({'sentence': \"In the Committee's discussion of possible adjustments to policy during the intermeeting period, members agreed that the retention of an asymmetric directive toward tightening was consistent with their view that the risks remained biased toward higher inflation.\", 'answer': 1}) (input_keys={'sentence'}),\n",
       " Example({'sentence': 'For example, changes in U.S. short-term interest rates seem to exert a substantial influence on euro area bond yields (Ehrmann, Fratzscher, and Rigobon, 2005', 'answer': 2}) (input_keys={'sentence'}),\n",
       " Example({'sentence': 'Although growth in output and employment slowed during the first quarter, the Committee continues to expect that, with appropriate policy accommodation, economic activity will expand at a moderate pace, with labor market indicators continuing to move toward levels the Committee judges consistent with its dual mandate.', 'answer': 0}) (input_keys={'sentence'}),\n",
       " Example({'sentence': 'For example, one—in the long-run, the size of the balance sheet is going to depend on the public’s demand for our liabilities, including currency and reserves.', 'answer': 2}) (input_keys={'sentence'}),\n",
       " Example({'sentence': 'Today, just nine months later, the unemployment rate is 7.6 percent--a larger decline than most FOMC participants expected in September.', 'answer': 2}) (input_keys={'sentence'}),\n",
       " Example({'sentence': 'In several Districts, reports from business contacts or evidence from surveys pointed to some difficulty in finding qualified workers; in some cases, labor shortages were making it hard to fill customer demand or expand business.', 'answer': 2}) (input_keys={'sentence'}),\n",
       " Example({'sentence': 'The Committee then turned to a discussion of the economic and financial outlook and the implementation of monetary policy over the intermeeting period ahead.', 'answer': 2}) (input_keys={'sentence'}),\n",
       " Example({'sentence': 'If this policy succeeds ex post, inflation expectations become anchored at the new lower level of inflation, and policy can, then, respond to demand shocks by adjusting real rates pro-cyclically, the opposite of what is required when initial inflation is too high and inflation expectations are not anchored.13 Inflation will also be pro-cyclical with well-anchored inflation expectations if demand shocks dominate and inflation expectations remain anchored.', 'answer': 2}) (input_keys={'sentence'}),\n",
       " Example({'sentence': 'However, other participants noted that the continued subdued trend in wages was evidence of an absence of upward pressure on inflation from the current level of resource utilization.', 'answer': 0}) (input_keys={'sentence'}),\n",
       " Example({'sentence': 'It is precisely because none of these preconditions hold that monetary policy is so difficult and principles are needed to guide its implementation.', 'answer': 2}) (input_keys={'sentence'}),\n",
       " Example({'sentence': 'Moreover, survey data on labor market attitudes of both consumers and businesses had not signaled a significant deterioration in employment prospects.', 'answer': 2}) (input_keys={'sentence'}),\n",
       " Example({'sentence': \"Indeed, just recently, the National Bureau of Economic Research's Business Cycle Dating Committee determined that the recession that began in March of last year ended in April, making it not only the deepest recession on record, but also the briefest.2 Moreover, with the development and distribution of several remarkably effective vaccines, the monetary and fiscal policies presently in place should continue to support the strong expansion in economic activity that is expected to be realized this year, although, obviously, the rapid spread of the Delta variant among the still considerable fraction of the population that is unvaccinated is clearly a downside risk for the outlook.\", 'answer': 0}) (input_keys={'sentence'}),\n",
       " Example({'sentence': 'Survey and market measures of long-term inflation expectations did not suggest that the earlier higher inflation readings were going to persist.', 'answer': 2}) (input_keys={'sentence'}),\n",
       " Example({'sentence': 'These participants concluded that the Committee should wait to take another step in removing accommodation until the data on economic activity provided a greater level of confidence that economic growth was strong enough to withstand a possible downward shock to demand.', 'answer': 0}) (input_keys={'sentence'}),\n",
       " Example({'sentence': 'Broad stock price indexes rose, on net, over the intermeeting period, boosted in part by favorable earnings reports from the retail sector.', 'answer': 2}) (input_keys={'sentence'}),\n",
       " Example({'sentence': 'Survey measures give us an idea of what the average household expects inflation to be in the coming years.', 'answer': 2}) (input_keys={'sentence'}),\n",
       " Example({'sentence': 'The staff continued to view the uncertainty around its projections for real GDP growth, the unemployment rate, and inflation as generally similar to the average of the past 20 years.', 'answer': 2}) (input_keys={'sentence'}),\n",
       " Example({'sentence': 'However, the historical record suggests that permanently lowering inflation expectations may require keeping monetary policy tight for a substantial period, resulting in considerable output and employment losses for a time.', 'answer': 1}) (input_keys={'sentence'}),\n",
       " Example({'sentence': 'Japan enjoyed effective price stability through most of the 1980s.', 'answer': 2}) (input_keys={'sentence'}),\n",
       " Example({'sentence': \"Finally, while my assessment of maximum employment incorporates a wide range of indicators to assess the state of the labor marketâ€”including indicators of labor compensation, productivity, and price-cost markupsâ€”the employment data I look at, such as the Kansas City Fed's Labor Market Conditions Indicators, are historically highly correlated with the unemployment rate.9 My expectation today is that the labor market by the end of 2022 will have reached my assessment of maximum employment if the unemployment rate has declined by then to the SEP median of modal projections of 3.8 percent.\", 'answer': 2}) (input_keys={'sentence'}),\n",
       " Example({'sentence': \"However, given the difficulty in distinguishing between changes in asset prices dominated by fundamental forces and those driven by non-fundamental forces, policymakers should not target asset prices or try to guide them to the policymakers' estimate of fundamental value.\", 'answer': 2}) (input_keys={'sentence'}),\n",
       " Example({'sentence': \"The Committee again anticipated that it likely would be appropriate to maintain the current target range for the federal funds rate for a considerable time after the asset purchase program ends, especially if projected inflation continued to run below the Committee's 2 percent longer-run goal, and provided that longer-term inflation expectations remained well anchored.\", 'answer': 0}) (input_keys={'sentence'}),\n",
       " Example({'sentence': \"Participants' Views on Current Conditions and the Economic Outlook In conjunction with this FOMC meeting, all meeting participants--the five members of the Board of Governors and the presidents of the 12 Federal Reserve Banks--provided projections of output growth, the unemployment rate, and inflation for each year from 2011 through 2013 and over the longer run.\", 'answer': 2}) (input_keys={'sentence'}),\n",
       " Example({'sentence': 'There is, to be sure, no trade-off and hence no inconsistency between full employment and price stability in the long run.', 'answer': 2}) (input_keys={'sentence'}),\n",
       " Example({'sentence': 'The distortions in the markets I have reviewed do not appear all that large, given the stance of monetary policy, and should we experience much higher interest rates and softer asset prices our resilient markets and flexible economy probably could absorb such a shock.', 'answer': 1}) (input_keys={'sentence'}),\n",
       " Example({'sentence': 'Trends in wages and prices have remained stable in recent months.', 'answer': 2}) (input_keys={'sentence'}),\n",
       " Example({'sentence': 'Indeed, the commitment to long-run price stability can afford the central bank some flexibility in employing its tools to address shorter-run economic issues.', 'answer': 2}) (input_keys={'sentence'}),\n",
       " Example({'sentence': 'One measure of the decline in recent years of the marginal cost of additions to oil availability is the downdrift in the prices of the most distant contracts for future delivery of Light Sweet crude oil.', 'answer': 2}) (input_keys={'sentence'}),\n",
       " Example({'sentence': 'The pace of job gains slowed and the unemployment rate held steady.', 'answer': 2}) (input_keys={'sentence'}),\n",
       " Example({'sentence': 'You know, stimulating aggregate demand is one thing, but where there’s a part of the economy that kind of will be resistant to that, you also need fiscal policy.', 'answer': 0}) (input_keys={'sentence'}),\n",
       " Example({'sentence': 'As a result, deregulation, globalization, and innovation have made it easier for citizens to move their wealth out of nominal assets in their local currency and thereby avoid any inflation tax should their government show signs that it might resort to inflationary tactics to finance spending.6 At the same time, the publicâ€™s understanding of the costs of inflation has increased, in part because of experiences of high inflation in many countries in the 1980s.', 'answer': 2}) (input_keys={'sentence'}),\n",
       " Example({'sentence': 'Two noted the possibility that sustained high levels of long-term unemployment could result in higher structural unemployment, an outcome that might be forestalled by increased aggregate demand.', 'answer': 0}) (input_keys={'sentence'}),\n",
       " Example({'sentence': 'With regard to the nation as a whole, members noted that rising levels of employment and incomes were continuing to foster solid growth in consumer spending, a development that was abetted by the sharp increases that had occurred in household wealth as a consequence of the extended uptrend in stock market prices and to a lesser extent the appreciation of home prices.', 'answer': 1}) (input_keys={'sentence'}),\n",
       " Example({'sentence': 'We are hopeful that Europe will take additional measures and do all that’s necessary to stabilize the situation and to provide the basis for an ongoing stable structure that—in which banks and sovereigns are both stabilized, in which there’s a program for growth, and in which fiscal arrangements are clear—are made much clearer.', 'answer': 2}) (input_keys={'sentence'}),\n",
       " Example({'sentence': 'In light of the robust expansion of capital spending thus far this year, the outlook for business investment spending was revised up appreciably, as more of the strength over the latter part of 2004 was attributed to underlying demand and less to the effects of the partial-expensing tax provision.', 'answer': 1}) (input_keys={'sentence'}),\n",
       " Example({'sentence': 'The gains in employment over July and August were generally seen as larger than anticipated.', 'answer': 1}) (input_keys={'sentence'}),\n",
       " Example({'sentence': 'Total nonfarm payroll employment increased at a solid pace in October and November, and the unemployment rate declined, reaching 4.', 'answer': 1}) (input_keys={'sentence'}),\n",
       " Example({'sentence': 'But it could be that if interest rates rise quickly, for example, that we would be in a situation of not giving remittances to the Treasury for a couple of years, and that would create problems, no doubt, for the Fed in terms of congressional response.', 'answer': 2}) (input_keys={'sentence'}),\n",
       " Example({'sentence': 'And, in my judgment, we may have to rely more on measures other than apparent excess demand to get reliable indications of pending changes in inflationary pressures.', 'answer': 2}) (input_keys={'sentence'}),\n",
       " Example({'sentence': 'On the foreign trade side of the economy, an anticipated firming of economic conditions abroad would provide impetus to real net exports, At the same time, however, imports were expected to rise appreciably in response to the expansion of domestic economic activity and the appreciation of the dollar, and on balance the external sector probably would not be boosting real GDP.', 'answer': 0}) (input_keys={'sentence'}),\n",
       " Example({'sentence': \"In their consideration of the appropriate stance of monetary policy, participants concurred that the labor market was very tight and that inflation was far above the Committee's 2 percent inflation objective.\", 'answer': 1}) (input_keys={'sentence'}),\n",
       " Example({'sentence': 'In these circumstances, the Committee believed that policy accommodation could be removed at a pace that would likely be measured but noted that it would respond to changes in economic prospects as needed to fulfill its obligation to maintain price stability.', 'answer': 1}) (input_keys={'sentence'}),\n",
       " Example({'sentence': 'With respect to the new framework itself, the statement now notes that the neutral level of the federal funds rate has declined relative to its historical average and therefore that the policy rate is more likely than in the past to be constrained by its ELB, and, moreover, that this binding ELB constraint is likely to impart downside risks to inflation and employment that the Committee needs to consider in implementing its monetary policy strategy.', 'answer': 1}) (input_keys={'sentence'}),\n",
       " Example({'sentence': 'Home prices continued to rise briskly.', 'answer': 1}) (input_keys={'sentence'}),\n",
       " Example({'sentence': 'Broad equity price indexes fell sharply over the intermeeting period on net.', 'answer': 2}) (input_keys={'sentence'}),\n",
       " Example({'sentence': 'I guess I would also urge you to remember that when you look at the projections, that there are many factors that affect those projections, and changes in tax policy—that’s only one of a number of factors, including incoming data that has, to some extent, altered the outlook for growth and inflation.', 'answer': 2}) (input_keys={'sentence'}),\n",
       " Example({'sentence': 'Instead, an upturn in foreign economic activity would depend more on recovery in the United States.', 'answer': 2}) (input_keys={'sentence'}),\n",
       " Example({'sentence': 'Inflation, in fact, is under control, and starting to come down.', 'answer': 2}) (input_keys={'sentence'}),\n",
       " Example({'sentence': 'Reports from several Districts suggested that firms had greater scope than in the recent past to raise prices in response to strong demand or increases in input costs, including those associated with tariff increases and recent rises in fuel and freight expenses.', 'answer': 1}) (input_keys={'sentence'}),\n",
       " Example({'sentence': 'During the period examined, the rate of overall consumer inflation was 2.78 percent, as measured by the regular CPI-U for All Items.', 'answer': 1}) (input_keys={'sentence'}),\n",
       " Example({'sentence': 'participants generally expected no more than moderate growth in consumer spending over the near term.', 'answer': 2}) (input_keys={'sentence'}),\n",
       " Example({'sentence': 'From a low near $30 per barrel in late 2003, the price of oil rose to $70 per barrel by the middle of 2006, and it has stayed high, with the current price more than $80.', 'answer': 1}) (input_keys={'sentence'}),\n",
       " Example({'sentence': 'Does the rapid growth in cross-border capital flows limit or even eliminate the ability of domestic monetary policy to affect domestic interest rates?', 'answer': 2}) (input_keys={'sentence'}),\n",
       " Example({'sentence': 'Staff Economic Outlook The projection for U. S. economic activity prepared by the staff for the April–May FOMC meeting was revised up on net.', 'answer': 1}) (input_keys={'sentence'}),\n",
       " Example({'sentence': 'A key purpose of our review has been to take stock of the lessons learned over this period and identify any further changes in our monetary policy framework that could enhance our ability to achieve our maximum-employment and price-stability objectives in the years ahead.9 Our evolving understanding of four key economic developments motivated our review.', 'answer': 2}) (input_keys={'sentence'}),\n",
       " Example({'sentence': 'Looking beyond this spring, my views on the appropriate pace of interest rate increases and balance sheet reduction for this year and beyond will depend on how the economy evolves.', 'answer': 2}) (input_keys={'sentence'}),\n",
       " Example({'sentence': 'While these studies allow for differences in the weighting of price indexes across different income groups, they rely on the same elementary price indexes for subcategories of goods and services.', 'answer': 2}) (input_keys={'sentence'}),\n",
       " Example({'sentence': \"In the Committee's discussion of current and prospective economic developments, members referred to the widespread statistical and anecdotal evidence that the surprising strength in economic activity over the closing months of 1996 was persisting in 1997.\", 'answer': 1}) (input_keys={'sentence'}),\n",
       " Example({'sentence': 'If the public expects that inflation will remain low and stable over time, then, absent major shocks, it likely will.', 'answer': 2}) (input_keys={'sentence'}),\n",
       " Example({'sentence': 'Monetary policy clearly can do little about the first-round effects of a permanent rise in energy prices, which include both its direct impact on the energy component of overall consumer prices and the pass-through of higher energy costs into prices of non-energy goods and services.', 'answer': 1}) (input_keys={'sentence'}),\n",
       " Example({'sentence': 'It isn’t the kind of inflation that’s spread broadly across the economy.', 'answer': 1}) (input_keys={'sentence'}),\n",
       " Example({'sentence': 'There is, in fact, an unusual discrepancy between the unemployment and capacity utilization rates, compared to previous expansions', 'answer': 2}) (input_keys={'sentence'}),\n",
       " Example({'sentence': 'Following the GFC, it took more than eight years for employment and inflation to return to similar mandate-consistent levels.', 'answer': 2}) (input_keys={'sentence'}),\n",
       " Example({'sentence': 'But if our assessment is correct that inflation is temporary, it would be unwise for us to take actions that might slow the recovery prematurely by trying to stay ahead of inflation, when our best estimate is that we are not far behind.', 'answer': 0}) (input_keys={'sentence'}),\n",
       " Example({'sentence': \"With respect to this particular part of the District, Jack may discuss Florida's citrus crop, the relative health of the tourism industry, and trends in Florida real estate prices.\", 'answer': 2}) (input_keys={'sentence'}),\n",
       " Example({'sentence': 'In particular, investors noted that the Committee attributed some of the recent increase in inflation to transitory factors, retained its earlier balance of risks assessment, and reiterated its belief that policy accommodation could be removed at a pace that would likely be measured.', 'answer': 1}) (input_keys={'sentence'}),\n",
       " Example({'sentence': 'In addition, the dramatic advances in biotechnology are significantly increasing a broad range of productivity-expanding efforts in areas from agriculture to medicine.', 'answer': 2}) (input_keys={'sentence'}),\n",
       " Example({'sentence': 'continued to anticipate a moderate strengthening of the expansion in 2011 as well as a further pickup in economic growth in 2012.', 'answer': 2}) (input_keys={'sentence'}),\n",
       " Example({'sentence': 'However, several participants pointed out that the 3-month change in that index had firmed recently, signaling some improvement in the inflation outlook.', 'answer': 2}) (input_keys={'sentence'}),\n",
       " Example({'sentence': 'Risks to the inflation projection also were seen as balanced.', 'answer': 2}) (input_keys={'sentence'}),\n",
       " Example({'sentence': 'another is the growing literature on the interaction of learning, inflation dynamics, and monetary policy.', 'answer': 2}) (input_keys={'sentence'}),\n",
       " Example({'sentence': 'But what does this mean for monetary policy?', 'answer': 2}) (input_keys={'sentence'}),\n",
       " Example({'sentence': 'subsequently moved up against the backdrop of an improving global growth outlook, higher commodity prices, depreciation of the dollar, and the stronger-than-expected reading on core inflation in the December CPI release.', 'answer': 1}) (input_keys={'sentence'}),\n",
       " Example({'sentence': \"Key factors that influence consumer spending--including a low unemployment rate, ongoing gains in real labor compensation, and still elevated measures of households' net worth--were supportive of a pickup in consumer spending to a solid pace in the near term.\", 'answer': 1}) (input_keys={'sentence'}),\n",
       " Example({'sentence': \"In particular, participants judged that communicating the Committee's expectation that short-term interest rates were likely to stay exceptionally low for some time could be useful because it could lead to pricing of longer-term interest rates consistent with the path of monetary policy that policymakers saw as most likely.\", 'answer': 0}) (input_keys={'sentence'}),\n",
       " Example({'sentence': 'Participants marked up their inflation projections, as they assessed that supply constraints in product and labor markets were larger and likely to be longer lasting than previously anticipated.', 'answer': 1}) (input_keys={'sentence'}),\n",
       " Example({'sentence': 'To see this, suppose that a speculative bubble has emerged and that a central bank, operating under a conventional strategy, has raised interest rates to keep the projected output gap closed and expected inflation at its desired level before the bubble bursts.', 'answer': 1}) (input_keys={'sentence'}),\n",
       " Example({'sentence': 'The expansion of M2 had declined substantially since late spring, apparently in part as a result of the widening opportunity costs of holding assets in M2 stemming from higher market interest rates and possibly also from slackening growth in household incomes.', 'answer': 1}) (input_keys={'sentence'}),\n",
       " Example({'sentence': 'In addition, to address the sizable demand for dollar funding in foreign jurisdictions, the FOMC authorized the expansion of its existing swap lines with the European Central Bank and Swiss National Bank; by the end of the intermeeting period, the formal quantity limits on these lines had been eliminated.', 'answer': 0}) (input_keys={'sentence'}),\n",
       " Example({'sentence': 'Further evidence that firms still have not fully adapted their operations to the latest state of technology also is provided in a recent study4 that attempts to measure the \"technological gap\"--that is, the difference between the productivity of leading-edge capital and the average productivity embodied in the current capital stock.', 'answer': 2}) (input_keys={'sentence'}),\n",
       " Example({'sentence': 'On balance, most participants still expected inflation to moderate later this year and in 2009.', 'answer': 2}) (input_keys={'sentence'}),\n",
       " Example({'sentence': 'And as reserves reach durably ample levels, we intend to slow the pace of purchases such that our balance sheet grows in line with trend demand for our liabilities.', 'answer': 1}) (input_keys={'sentence'}),\n",
       " Example({'sentence': 'First, I will discuss the available empirical evidence from the United States on the effect of changes in asset prices on household consumption and business investment.', 'answer': 2}) (input_keys={'sentence'}),\n",
       " Example({'sentence': 'The complementarity of price stability with the other goals of monetary policy is now the consensus view among economists and central bankers.', 'answer': 1}) (input_keys={'sentence'}),\n",
       " Example({'sentence': 'These participants cited, for example, the still-elevated levels of long-term unemployment and workers employed part time for economic reasons as well as low labor force participation.', 'answer': 0}) (input_keys={'sentence'}),\n",
       " Example({'sentence': 'Employment had risen a little,', 'answer': 0}) (input_keys={'sentence'}),\n",
       " Example({'sentence': 'If, in their quest to reduce macroeconomic risk, policymakers overshoot and ease policy too much, they need to be willing to expeditiously remove at least part of that ease before inflationary pressures become a threat.', 'answer': 1}) (input_keys={'sentence'}),\n",
       " Example({'sentence': 'A key factor in this assessment continued to be their outlook for rapid further gains in structural productivity that would help to hold down increases in unit labor costs.', 'answer': 2}) (input_keys={'sentence'}),\n",
       " Example({'sentence': 'By getting unemployment down, we hope to bring back to work some of the people who’ve been out of work as long as they have and, in that respect, try to avoid the longer-term consequences of people being out of work for months at a time.', 'answer': 0}) (input_keys={'sentence'}),\n",
       " Example({'sentence': 'And I think, more broadly, monetary policy is also supporting household spending and home buying by keeping the labor market strong, keeping workers’ incomes rising, and keeping consumer confidence at high levels, where it currently is.', 'answer': 0}) (input_keys={'sentence'}),\n",
       " Example({'sentence': 'Members agreed to continue to monitor inflation developments closely.', 'answer': 2}) (input_keys={'sentence'}),\n",
       " Example({'sentence': 'These interest rate changes also have effects on asset prices, and thereby on household wealth, as well as on the exchange value of the dollar and, thereby, on net exports and core import prices.7 However, relative to balance sheet policies, the influence of the short-term rate is far better understood and extensively tested: There have been several decades and many business cycles over which to measure and analyze how the federal funds rate affects financial markets and real activity.', 'answer': 2}) (input_keys={'sentence'}),\n",
       " Example({'sentence': 'Consistent with the optimism driving stock prices, spreads of corporate bond yields over comparable-maturity Treasury yields narrowed markedly across the credit spectrum, most notably for debt securities of the lowest credit quality firms.', 'answer': 0}) (input_keys={'sentence'}),\n",
       " Example({'sentence': 'In addition to u* and r*, an important input into any monetary policy assessment is the state of inflation expectations.', 'answer': 2}) (input_keys={'sentence'}),\n",
       " Example({'sentence': 'But equity prices were only holding their own after a substantial decline earlier and the dollar had appreciated.', 'answer': 0}) (input_keys={'sentence'}),\n",
       " Example({'sentence': 'We said that we would \"aim to achieve inflation moderately above 2 percent for some time\" to ensure that it averages 2 percent over time and that inflation expectations stay anchored.', 'answer': 0}) (input_keys={'sentence'}),\n",
       " Example({'sentence': 'One branch of economists holds the view that monetary policy should not be influenced by any perceived financial market bubbles.', 'answer': 2}) (input_keys={'sentence'}),\n",
       " Example({'sentence': 'While recognizing the improvement in a number of indicators of economic activity and labor market conditions since the fall, many members indicated that further improvement in the outlook for the labor market would be required before it would be appropriate to slow the pace of asset purchases.', 'answer': 0}) (input_keys={'sentence'}),\n",
       " Example({'sentence': 'In furtherance of these objectives, the Committee at its meeting in July reaffirmed the ranges it had established in January for growth of M2 and M3 of 1 to 5 percent and 2 to 6 percent respectively, measured from the fourth quarter of 1995 to the fourth quarter of 1996.', 'answer': 2}) (input_keys={'sentence'}),\n",
       " Example({'sentence': 'As students of economics, you may already know that the Federal Reserve conducts monetary policy to support a strong and stable economy in the United States.', 'answer': 2}) (input_keys={'sentence'}),\n",
       " Example({'sentence': 'In their discussion of monetary policy for the period ahead, Committee members generally agreed that their overall assessments of the economic outlook were little changed since their previous meeting.', 'answer': 2}) (input_keys={'sentence'}),\n",
       " Example({'sentence': 'In December, the consumer price index (CPI) rose somewhat faster than in recent months, primarily reflecting an upturn in consumer energy prices', 'answer': 1}) (input_keys={'sentence'}),\n",
       " Example({'sentence': 'Countries differ in this regard, both in formal mandate and in actual practice.12 As an extensive academic literature shows, however, the general approach of inflation targeting is fully consistent with any set of relative social weights on inflation and unemployment', 'answer': 2}) (input_keys={'sentence'}),\n",
       " Example({'sentence': 'The rationale for monetary policy tightening is, in my judgment, quite straightforward and flows from two assessments about the current state of the economy.', 'answer': 1}) (input_keys={'sentence'}),\n",
       " Example({'sentence': 'Indeed, the website of the Central Bank of Brazil explicitly acknowledges the role of inflation in driving financial innovations that enabled firms and households to economize on cash balances in that country.', 'answer': 2}) (input_keys={'sentence'}),\n",
       " Example({'sentence': 'The members recognized that a typical recovery-period surge in consumer spending was unlikely inasmuch as expenditures had registered solid growth through the economic downturn, implying an absence of significant pent-up demands.', 'answer': 0}) (input_keys={'sentence'}),\n",
       " Example({'sentence': 'Current Economic Situation and Outlook While the coronavirus (COVID-19) pandemic has taken a tragic human toll measured in terms of lives lost and suffering inflicted, as a direct result of the necessary public health policies put in place to mitigate and control the spread of the virus, the pandemic has also inflicted a heavy toll on the levels of activity and employment in the U.S. economy.', 'answer': 0}) (input_keys={'sentence'}),\n",
       " Example({'sentence': 'And similar, sometimes even sharper, trajectories of house prices have been witnessed in some economies in which the central banks said they were paying more attention to asset prices.', 'answer': 2}) (input_keys={'sentence'}),\n",
       " Example({'sentence': 'But strong demand and a very tight labor market have also contributed to inflation pressures, and the FOMC can help alleviate those pressures by removing the extraordinary monetary policy accommodation that is no longer needed.', 'answer': 1}) (input_keys={'sentence'}),\n",
       " Example({'sentence': 'The nominal deficit on U. S. trade in goods and services narrowed somewhat in August from a high rate in July', 'answer': 0}) (input_keys={'sentence'}),\n",
       " Example({'sentence': 'The course of underlying inflation pressures was more difficult to gauge, however.', 'answer': 2}) (input_keys={'sentence'}),\n",
       " Example({'sentence': 'As always, our actions are guided by our congressional mandate to promote maximum employment and price stability.', 'answer': 1}) (input_keys={'sentence'}),\n",
       " Example({'sentence': 'Inflation is a significant challenge for everyone, but it hits lower- and moderate-income people the hardest, since they spend a larger share of their incomes on necessities and often have less savings to fall back on.', 'answer': 1}) (input_keys={'sentence'}),\n",
       " Example({'sentence': 'As the factors restraining economic growth are projected to fade further over time, the median rate rises to 3 percent by the end of 2018, close to its longer-run normal level.', 'answer': 1}) (input_keys={'sentence'}),\n",
       " Example({'sentence': 'The lagged effects of the earlier rise in the foreign exchange value of the dollar were expected to place continuing, though diminishing, restraint on the demand for U. S. exports for some period ahead and to lead to further substitution of imports for domestic products.', 'answer': 0}) (input_keys={'sentence'}),\n",
       " Example({'sentence': 'The Federal Open Market Committee (FOMC) has been responsible for monetary policy decisions in the United States since it was established by the Banking Act of 1935, two decades after the founding of the Fed itself.2 The movement toward committees reflects the advantages of committees in aggregating a wide range of information, perspectives, and models.', 'answer': 2}) (input_keys={'sentence'}),\n",
       " Example({'sentence': 'An understanding of a likely long-run level of the equilibrium real rate is useful, even though the level is not directly observable, because it provides a general sense of the level that would, over that longer period, allow aggregate supply and demand to move into balance, given the evaluation of secular forces such as productivity and population growth.', 'answer': 2}) (input_keys={'sentence'}),\n",
       " Example({'sentence': 'Rather, members agreed that inflation was likely to moderate in coming quarters,', 'answer': 1}) (input_keys={'sentence'}),\n",
       " Example({'sentence': 'The members also agreed that the risks remained weighted mainly in the direction of greater inflation pressures and that further tightening actions might be necessary to bring about financial conditions that were sufficiently firm to contain upward pressures on labor costs and prices.', 'answer': 1}) (input_keys={'sentence'}),\n",
       " Example({'sentence': 'as a result, headline PCE price inflation was expected to substantially exceed core PCE price inflation in 2008.', 'answer': 2}) (input_keys={'sentence'}),\n",
       " Example({'sentence': 'Participants noted that the improved performance of investment suggested that the expansion was becoming more balanced, with strengthening business spending potentially offsetting some moderation in the growth of household spending from the elevated rates of recent years.', 'answer': 2}) (input_keys={'sentence'}),\n",
       " Example({'sentence': 'The members concluded that retaining a risk statement weighted toward more inflation pressures would best represent their current thinking, but they believed it was desirable to provide some recognition of the emergence of increased downside risks to the economic expansion in the statement to be released after this meeting.', 'answer': 1}) (input_keys={'sentence'}),\n",
       " Example({'sentence': 'As is evident in the right-hand chart, the relationship between the growth differential and capital inflows to EMEs seems to be quite strong.', 'answer': 2}) (input_keys={'sentence'}),\n",
       " Example({'sentence': 'Consistent with the view that recent lower inflation readings could be temporary, a number of participants mentioned the trimmed mean measure of PCE price inflation, produced by the Federal Reserve Bank of Dallas, which removes the influence of unusually large changes in the prices of individual items in either direction; these participants observed that the trimmed mean measure had been stable at or close to 2 percent over recent months.', 'answer': 2}) (input_keys={'sentence'}),\n",
       " Example({'sentence': 'PCE price inflation was forecast to still be well above 2 percent at the end of this year.', 'answer': 0}) (input_keys={'sentence'}),\n",
       " Example({'sentence': 'The U. S. international trade deficit declined somewhat in May after reaching a record high in April.', 'answer': 2}) (input_keys={'sentence'}),\n",
       " Example({'sentence': 'The International Monetary Fund projects that global economic growth in 2019 will be the slowest since the financial crisis.', 'answer': 0}) (input_keys={'sentence'}),\n",
       " Example({'sentence': 'However, we have also found that excluding volatile food and energy prices generally gives a better sense of underlying inflation pressures that are likely to persist and dominate total inflation over time.', 'answer': 2}) (input_keys={'sentence'}),\n",
       " Example({'sentence': 'The Federal Reserve has a dual mandate from the Congress to pursue policies that aim to achieve and sustain maximum employment and price stability.', 'answer': 1}) (input_keys={'sentence'}),\n",
       " Example({'sentence': 'A few participants argued that maintaining a highly accommodative stance of monetary policy over the medium run would erode the stability of inflation expectations.', 'answer': 1}) (input_keys={'sentence'}),\n",
       " Example({'sentence': 'With regard to the consensus in favor of moving from an assessment of risks weighted toward rising inflation to one that was weighted toward economic weakness, with no intermediate issuance of a balanced risks assessment, some members observed that such a change was likely to be viewed as a relatively rapid shift by some observers.', 'answer': 0}) (input_keys={'sentence'}),\n",
       " Example({'sentence': 'The increase in upside risks to domestic demand and the diminution of foreign risks together suggest that risks to the outlook are more balanced today than they had been for the preceding two years.', 'answer': 2}) (input_keys={'sentence'}),\n",
       " Example({'sentence': 'Of course, the cost of this critical stabilization was the high unemployment and lost output associated with the sharp 1981-82 recession.', 'answer': 0}) (input_keys={'sentence'}),\n",
       " Example({'sentence': 'We think that the economy will need highly accommodative monetary policy and the use of our tools for an extended period.', 'answer': 0}) (input_keys={'sentence'}),\n",
       " Example({'sentence': 'Participants discussed several risks that, if realized, could necessitate a steeper path of increases in the target range; these risks included the possibility that inflation pressures could build unduly if output expanded well beyond its maximum sustainable level, perhaps owing to fiscal stimulus or accommodative financial market conditions.', 'answer': 1}) (input_keys={'sentence'}),\n",
       " Example({'sentence': 'Measures of longer-term inflation expectations edged up in early January, but remained lower than they had been in all but the last few weeks of 2008.', 'answer': 1}) (input_keys={'sentence'}),\n",
       " Example({'sentence': 'The implication is that trend productivity and, ultimately, potential growth are lower than expected.', 'answer': 0}) (input_keys={'sentence'}),\n",
       " Example({'sentence': 'In contrast, in cases in which variations in the demand for reserves or in external factors affecting reserve supply appear likely to be temporary, the Desk typically prefers to conduct open-market operations through short-term or long-term repurchase agreements, known as repos.', 'answer': 2}) (input_keys={'sentence'}),\n",
       " Example({'sentence': 'For example, wages and prices that are set for some period in the future will of necessity embody the inflation expectations of the parties to the negotiation', 'answer': 2}) (input_keys={'sentence'}),\n",
       " Example({'sentence': 'Core price inflation was projected to rise a little over the forecast horizon, in part as a result of higher import prices', 'answer': 1}) (input_keys={'sentence'}),\n",
       " Example({'sentence': 'To provide some evidence for this assertion, as well as some reasons for it, I draw your attention to a speech that Chairman Greenspan made earlier this year, entitled \"Risk and Uncertainty in Monetary Policy\" (Greenspan, 2004).', 'answer': 2}) (input_keys={'sentence'}),\n",
       " Example({'sentence': \"A main reason I expect this outcome is simply the fact that the very low inflation readings during last spring's deep economic contraction will drop from the usual calculation of 12-month price changes.\", 'answer': 0}) (input_keys={'sentence'}),\n",
       " Example({'sentence': 'But many other commodity prices have fallen further, and the reason I would give for that is that the emerging markets—China, the rest of Asia, and some other parts of the world—plus Europe, of course, are softer, and so global commodity demand is weaker.', 'answer': 0}) (input_keys={'sentence'})]"
      ]
     },
     "execution_count": 37,
     "metadata": {},
     "output_type": "execute_result"
    }
   ],
   "source": [
    "testing_set = [dspy.Example(sentence = df.loc[i].sentence, answer = df.loc[i].label).with_inputs(\"sentence\") for i in range(len(df))]\n",
    "testing_set"
   ]
  },
  {
   "cell_type": "code",
   "execution_count": 38,
   "metadata": {},
   "outputs": [
    {
     "data": {
      "text/plain": [
       "30"
      ]
     },
     "execution_count": 38,
     "metadata": {},
     "output_type": "execute_result"
    }
   ],
   "source": [
    "len(training_set)"
   ]
  },
  {
   "cell_type": "code",
   "execution_count": 39,
   "metadata": {},
   "outputs": [
    {
     "name": "stdout",
     "output_type": "stream",
     "text": [
      "Setting the horizon on the interest rate caps to reinforce forward guidance on the policy rate would augment the credibility of the yield curve caps and thereby diminish concerns about an open-ended balance sheet commitment.\n"
     ]
    }
   ],
   "source": [
    "sent = df.loc[0].sentence\n",
    "print(sent)"
   ]
  },
  {
   "cell_type": "code",
   "execution_count": 40,
   "metadata": {},
   "outputs": [],
   "source": [
    "turbo = dspy.OpenAI(model='gpt-3.5-turbo-instruct', max_tokens=1000, api_key=api_key)\n",
    "dspy.settings.configure(lm=turbo)\n",
    "d = {0: 'dovish', 1: 'hawkish', 2: 'neutral'}"
   ]
  },
  {
   "cell_type": "code",
   "execution_count": 41,
   "metadata": {},
   "outputs": [],
   "source": [
    "class StanceAnalysis(dspy.Signature):\n",
    "    \"\"\"Classify the sentence's stance on the monetary policy between hawkish, neutral, and dovish.\"\"\"\n",
    "    \n",
    "    sentence = dspy.InputField()\n",
    "    stance = dspy.OutputField(desc = \"hawkish, neutral, or dovish\")\n",
    "\n",
    "class Analysis(dspy.Module):\n",
    "    def __init__(self):\n",
    "        super().__init__()\n",
    "        self.predict = dspy.Predict(StanceAnalysis)\n",
    "    \n",
    "    def forward(self, sentence):\n",
    "        return self.predict(sentence=sentence)"
   ]
  },
  {
   "cell_type": "code",
   "execution_count": 42,
   "metadata": {},
   "outputs": [
    {
     "data": {
      "text/plain": [
       "Prediction(\n",
       "    stance='hawkish'\n",
       ")"
      ]
     },
     "execution_count": 42,
     "metadata": {},
     "output_type": "execute_result"
    }
   ],
   "source": [
    "classify = dspy.Predict(StanceAnalysis)\n",
    "classify(sentence=sent)\n",
    "\n",
    "analyze = Analysis()\n",
    "analyze(df.loc[4].sentence)"
   ]
  },
  {
   "cell_type": "code",
   "execution_count": 43,
   "metadata": {},
   "outputs": [
    {
     "data": {
      "text/plain": [
       "index                                                       297\n",
       "sentence      In Japan, private consumption rebounded strong...\n",
       "year                                                       2006\n",
       "label                                                         2\n",
       "orig_index                                                  283\n",
       "Name: 4, dtype: object"
      ]
     },
     "execution_count": 43,
     "metadata": {},
     "output_type": "execute_result"
    }
   ],
   "source": [
    "df.loc[4]"
   ]
  },
  {
   "cell_type": "code",
   "execution_count": 44,
   "metadata": {},
   "outputs": [],
   "source": [
    "def answer_match(example, pred, trace=None):\n",
    "    answer_match = d[example.answer].lower() == pred.stance.lower()\n",
    "    # print(f\"Actual: {d[example.answer].lower()}, Predicted: {pred.stance.lower()}\")\n",
    "    return answer_match"
   ]
  },
  {
   "cell_type": "code",
   "execution_count": 14,
   "metadata": {},
   "outputs": [
    {
     "name": "stderr",
     "output_type": "stream",
     "text": [
      "Average Metric: 0 / 1  (0.0):   3%|▎         | 1/30 [00:00<00:09,  3.17it/s]"
     ]
    },
    {
     "name": "stdout",
     "output_type": "stream",
     "text": [
      "Actual: dovish, Predicted: neutral\n"
     ]
    },
    {
     "name": "stderr",
     "output_type": "stream",
     "text": [
      "Average Metric: 1 / 2  (50.0):   7%|▋         | 2/30 [00:00<00:10,  2.80it/s]"
     ]
    },
    {
     "name": "stdout",
     "output_type": "stream",
     "text": [
      "Actual: dovish, Predicted: dovish\n"
     ]
    },
    {
     "name": "stderr",
     "output_type": "stream",
     "text": [
      "Average Metric: 1 / 3  (33.3):  10%|█         | 3/30 [00:00<00:08,  3.30it/s]"
     ]
    },
    {
     "name": "stdout",
     "output_type": "stream",
     "text": [
      "Actual: dovish, Predicted: neutral\n"
     ]
    },
    {
     "name": "stderr",
     "output_type": "stream",
     "text": [
      "Average Metric: 2 / 4  (50.0):  13%|█▎        | 4/30 [00:01<00:06,  3.75it/s]"
     ]
    },
    {
     "name": "stdout",
     "output_type": "stream",
     "text": [
      "Actual: dovish, Predicted: dovish\n"
     ]
    },
    {
     "name": "stderr",
     "output_type": "stream",
     "text": [
      "Average Metric: 3 / 5  (60.0):  17%|█▋        | 5/30 [00:01<00:07,  3.16it/s]"
     ]
    },
    {
     "name": "stdout",
     "output_type": "stream",
     "text": [
      "Actual: dovish, Predicted: dovish\n"
     ]
    },
    {
     "name": "stderr",
     "output_type": "stream",
     "text": [
      "Average Metric: 4 / 6  (66.7):  20%|██        | 6/30 [00:02<00:12,  1.94it/s]"
     ]
    },
    {
     "name": "stdout",
     "output_type": "stream",
     "text": [
      "Actual: dovish, Predicted: dovish\n"
     ]
    },
    {
     "name": "stderr",
     "output_type": "stream",
     "text": [
      "Average Metric: 4 / 7  (57.1):  23%|██▎       | 7/30 [00:02<00:10,  2.13it/s]"
     ]
    },
    {
     "name": "stdout",
     "output_type": "stream",
     "text": [
      "Actual: dovish, Predicted: neutral\n"
     ]
    },
    {
     "name": "stderr",
     "output_type": "stream",
     "text": [
      "Average Metric: 4 / 8  (50.0):  27%|██▋       | 8/30 [00:03<00:09,  2.27it/s]"
     ]
    },
    {
     "name": "stdout",
     "output_type": "stream",
     "text": [
      "Actual: dovish, Predicted: neutral\n"
     ]
    },
    {
     "name": "stderr",
     "output_type": "stream",
     "text": [
      "Average Metric: 5 / 9  (55.6):  30%|███       | 9/30 [00:03<00:07,  2.70it/s]"
     ]
    },
    {
     "name": "stdout",
     "output_type": "stream",
     "text": [
      "Actual: dovish, Predicted: dovish\n"
     ]
    },
    {
     "name": "stderr",
     "output_type": "stream",
     "text": [
      "Average Metric: 6 / 10  (60.0):  33%|███▎      | 10/30 [00:03<00:06,  3.06it/s]"
     ]
    },
    {
     "name": "stdout",
     "output_type": "stream",
     "text": [
      "Actual: dovish, Predicted: dovish\n"
     ]
    },
    {
     "name": "stderr",
     "output_type": "stream",
     "text": [
      "Average Metric: 7 / 11  (63.6):  37%|███▋      | 11/30 [00:04<00:06,  2.96it/s]"
     ]
    },
    {
     "name": "stdout",
     "output_type": "stream",
     "text": [
      "Actual: hawkish, Predicted: hawkish\n"
     ]
    },
    {
     "name": "stderr",
     "output_type": "stream",
     "text": [
      "Average Metric: 8 / 12  (66.7):  40%|████      | 12/30 [00:04<00:05,  3.28it/s]"
     ]
    },
    {
     "name": "stdout",
     "output_type": "stream",
     "text": [
      "Actual: hawkish, Predicted: hawkish\n"
     ]
    },
    {
     "name": "stderr",
     "output_type": "stream",
     "text": [
      "Average Metric: 9 / 13  (69.2):  43%|████▎     | 13/30 [00:04<00:04,  3.59it/s]"
     ]
    },
    {
     "name": "stdout",
     "output_type": "stream",
     "text": [
      "Actual: hawkish, Predicted: hawkish\n"
     ]
    },
    {
     "name": "stderr",
     "output_type": "stream",
     "text": [
      "Average Metric: 10 / 14  (71.4):  47%|████▋     | 14/30 [00:04<00:04,  3.83it/s]"
     ]
    },
    {
     "name": "stdout",
     "output_type": "stream",
     "text": [
      "Actual: hawkish, Predicted: hawkish\n"
     ]
    },
    {
     "name": "stderr",
     "output_type": "stream",
     "text": [
      "Average Metric: 10 / 15  (66.7):  50%|█████     | 15/30 [00:04<00:03,  3.94it/s]"
     ]
    },
    {
     "name": "stdout",
     "output_type": "stream",
     "text": [
      "Actual: hawkish, Predicted: dovish\n"
     ]
    },
    {
     "name": "stderr",
     "output_type": "stream",
     "text": [
      "Average Metric: 11 / 16  (68.8):  53%|█████▎    | 16/30 [00:05<00:03,  4.07it/s]"
     ]
    },
    {
     "name": "stdout",
     "output_type": "stream",
     "text": [
      "Actual: hawkish, Predicted: hawkish\n"
     ]
    },
    {
     "name": "stderr",
     "output_type": "stream",
     "text": [
      "Average Metric: 11 / 17  (64.7):  57%|█████▋    | 17/30 [00:05<00:03,  3.57it/s]"
     ]
    },
    {
     "name": "stdout",
     "output_type": "stream",
     "text": [
      "Actual: hawkish, Predicted: neutral\n"
     ]
    },
    {
     "name": "stderr",
     "output_type": "stream",
     "text": [
      "Average Metric: 11 / 18  (61.1):  60%|██████    | 18/30 [00:05<00:03,  3.28it/s]"
     ]
    },
    {
     "name": "stdout",
     "output_type": "stream",
     "text": [
      "Actual: hawkish, Predicted: neutral\n"
     ]
    },
    {
     "name": "stderr",
     "output_type": "stream",
     "text": [
      "Average Metric: 12 / 19  (63.2):  63%|██████▎   | 19/30 [00:06<00:03,  3.56it/s]"
     ]
    },
    {
     "name": "stdout",
     "output_type": "stream",
     "text": [
      "Actual: hawkish, Predicted: hawkish\n"
     ]
    },
    {
     "name": "stderr",
     "output_type": "stream",
     "text": [
      "Average Metric: 13 / 20  (65.0):  67%|██████▋   | 20/30 [00:06<00:02,  3.74it/s]"
     ]
    },
    {
     "name": "stdout",
     "output_type": "stream",
     "text": [
      "Actual: hawkish, Predicted: hawkish\n"
     ]
    },
    {
     "name": "stderr",
     "output_type": "stream",
     "text": [
      "Average Metric: 14 / 21  (66.7):  70%|███████   | 21/30 [00:06<00:02,  3.41it/s]"
     ]
    },
    {
     "name": "stdout",
     "output_type": "stream",
     "text": [
      "Actual: neutral, Predicted: neutral\n"
     ]
    },
    {
     "name": "stderr",
     "output_type": "stream",
     "text": [
      "Average Metric: 15 / 22  (68.2):  73%|███████▎  | 22/30 [00:06<00:02,  3.61it/s]"
     ]
    },
    {
     "name": "stdout",
     "output_type": "stream",
     "text": [
      "Actual: neutral, Predicted: neutral\n"
     ]
    },
    {
     "name": "stderr",
     "output_type": "stream",
     "text": [
      "Average Metric: 16 / 23  (69.6):  77%|███████▋  | 23/30 [00:07<00:02,  3.35it/s]"
     ]
    },
    {
     "name": "stdout",
     "output_type": "stream",
     "text": [
      "Actual: neutral, Predicted: neutral\n"
     ]
    },
    {
     "name": "stderr",
     "output_type": "stream",
     "text": [
      "Average Metric: 17 / 24  (70.8):  80%|████████  | 24/30 [00:07<00:02,  2.97it/s]"
     ]
    },
    {
     "name": "stdout",
     "output_type": "stream",
     "text": [
      "Actual: neutral, Predicted: neutral\n"
     ]
    },
    {
     "name": "stderr",
     "output_type": "stream",
     "text": [
      "Average Metric: 18 / 25  (72.0):  83%|████████▎ | 25/30 [00:07<00:01,  3.26it/s]"
     ]
    },
    {
     "name": "stdout",
     "output_type": "stream",
     "text": [
      "Actual: neutral, Predicted: neutral\n"
     ]
    },
    {
     "name": "stderr",
     "output_type": "stream",
     "text": [
      "Average Metric: 18 / 26  (69.2):  87%|████████▋ | 26/30 [00:08<00:01,  3.57it/s]"
     ]
    },
    {
     "name": "stdout",
     "output_type": "stream",
     "text": [
      "Actual: neutral, Predicted: hawkish\n"
     ]
    },
    {
     "name": "stderr",
     "output_type": "stream",
     "text": [
      "Average Metric: 19 / 27  (70.4):  90%|█████████ | 27/30 [00:08<00:00,  3.61it/s]"
     ]
    },
    {
     "name": "stdout",
     "output_type": "stream",
     "text": [
      "Actual: neutral, Predicted: neutral\n"
     ]
    },
    {
     "name": "stderr",
     "output_type": "stream",
     "text": [
      "Average Metric: 20 / 28  (71.4):  93%|█████████▎| 28/30 [00:08<00:00,  3.33it/s]"
     ]
    },
    {
     "name": "stdout",
     "output_type": "stream",
     "text": [
      "Actual: neutral, Predicted: neutral\n"
     ]
    },
    {
     "name": "stderr",
     "output_type": "stream",
     "text": [
      "Average Metric: 21 / 29  (72.4):  97%|█████████▋| 29/30 [00:08<00:00,  3.62it/s]"
     ]
    },
    {
     "name": "stdout",
     "output_type": "stream",
     "text": [
      "Actual: neutral, Predicted: neutral\n"
     ]
    },
    {
     "name": "stderr",
     "output_type": "stream",
     "text": [
      "Average Metric: 21 / 30  (70.0): 100%|██████████| 30/30 [00:09<00:00,  3.17it/s]"
     ]
    },
    {
     "name": "stdout",
     "output_type": "stream",
     "text": [
      "Actual: neutral, Predicted: dovish\n",
      "Average Metric: 21 / 30  (70.0%)\n"
     ]
    },
    {
     "name": "stderr",
     "output_type": "stream",
     "text": [
      "\n"
     ]
    },
    {
     "data": {
      "text/plain": [
       "70.0"
      ]
     },
     "execution_count": 14,
     "metadata": {},
     "output_type": "execute_result"
    }
   ],
   "source": [
    "evaluate = Evaluate(devset=training_set, metric=answer_match, display_progress=True, display_table=0)\n",
    "evaluate(Analysis())"
   ]
  },
  {
   "cell_type": "code",
   "execution_count": 45,
   "metadata": {},
   "outputs": [
    {
     "name": "stdout",
     "output_type": "stream",
     "text": [
      "\u001b[93m\u001b[1mWARNING: Projected Language Model (LM) Calls\u001b[0m\n",
      "\n",
      "Please be advised that based on the parameters you have set, the maximum number of LM calls is projected as follows:\n",
      "\n",
      "\u001b[93m- Task Model: \u001b[94m\u001b[1m30\u001b[0m\u001b[93m examples in dev set * \u001b[94m\u001b[1m5\u001b[0m\u001b[93m trials * \u001b[94m\u001b[1m# of LM calls in your program\u001b[0m\u001b[93m = (\u001b[94m\u001b[1m150 * # of LM calls in your program\u001b[0m\u001b[93m) task model calls\u001b[0m\n",
      "\u001b[93m- Prompt Model: # data summarizer calls (max \u001b[94m\u001b[1m10\u001b[0m\u001b[93m) + \u001b[94m\u001b[1m10\u001b[0m\u001b[93m * \u001b[94m\u001b[1m1\u001b[0m\u001b[93m lm calls in program = \u001b[94m\u001b[1m20\u001b[0m\u001b[93m prompt model calls\u001b[0m\n",
      "\n",
      "\u001b[93m\u001b[1mEstimated Cost Calculation:\u001b[0m\n",
      "\n",
      "\u001b[93mTotal Cost = (Number of calls to task model * (Avg Input Token Length per Call * Task Model Price per Input Token + Avg Output Token Length per Call * Task Model Price per Output Token) \n",
      "            + (Number of calls to prompt model * (Avg Input Token Length per Call * Task Prompt Price per Input Token + Avg Output Token Length per Call * Prompt Model Price per Output Token).\u001b[0m\n",
      "\n",
      "For a preliminary estimate of potential costs, we recommend you perform your own calculations based on the task\n",
      "and prompt models you intend to use. If the projected costs exceed your budget or expectations, you may consider:\n",
      "\n",
      "\u001b[93m- Reducing the number of trials (`num_trials`), the size of the trainset, or the number of LM calls in your program.\u001b[0m\n",
      "\u001b[93m- Using a cheaper task model to optimize the prompt.\u001b[0m\n",
      "To proceed with the execution of this program, please confirm by typing \u001b[94m'y'\u001b[0m for yes or \u001b[94m'n'\u001b[0m for no.\n",
      "\n",
      "If you would like to bypass this confirmation step in future executions, set the \u001b[93m`requires_permission_to_run`\u001b[0m flag to \u001b[93m`False`.\u001b[0m\n",
      "\n",
      "\u001b[93mAwaiting your input...\u001b[0m\n",
      "\n"
     ]
    },
    {
     "name": "stderr",
     "output_type": "stream",
     "text": [
      " 10%|█         | 3/30 [00:01<00:11,  2.34it/s]\n"
     ]
    },
    {
     "name": "stdout",
     "output_type": "stream",
     "text": [
      "Bootstrapped 3 full traces after 4 examples in round 0.\n"
     ]
    },
    {
     "name": "stderr",
     "output_type": "stream",
     "text": [
      " 10%|█         | 3/30 [00:00<00:06,  4.26it/s]\n"
     ]
    },
    {
     "name": "stdout",
     "output_type": "stream",
     "text": [
      "Bootstrapped 3 full traces after 4 examples in round 0.\n"
     ]
    },
    {
     "name": "stderr",
     "output_type": "stream",
     "text": [
      " 13%|█▎        | 4/30 [00:00<00:05,  4.96it/s]\n"
     ]
    },
    {
     "name": "stdout",
     "output_type": "stream",
     "text": [
      "Bootstrapped 3 full traces after 5 examples in round 0.\n"
     ]
    },
    {
     "name": "stderr",
     "output_type": "stream",
     "text": [
      " 13%|█▎        | 4/30 [00:01<00:08,  3.08it/s]\n"
     ]
    },
    {
     "name": "stdout",
     "output_type": "stream",
     "text": [
      "Bootstrapped 3 full traces after 5 examples in round 0.\n"
     ]
    },
    {
     "name": "stderr",
     "output_type": "stream",
     "text": [
      " 10%|█         | 3/30 [00:00<00:02, 11.41it/s]\n"
     ]
    },
    {
     "name": "stdout",
     "output_type": "stream",
     "text": [
      "Bootstrapped 3 full traces after 4 examples in round 0.\n"
     ]
    },
    {
     "name": "stderr",
     "output_type": "stream",
     "text": [
      " 10%|█         | 3/30 [00:00<00:03,  8.18it/s]\n"
     ]
    },
    {
     "name": "stdout",
     "output_type": "stream",
     "text": [
      "Bootstrapped 3 full traces after 4 examples in round 0.\n"
     ]
    },
    {
     "name": "stderr",
     "output_type": "stream",
     "text": [
      " 13%|█▎        | 4/30 [00:00<00:06,  4.06it/s]\n"
     ]
    },
    {
     "name": "stdout",
     "output_type": "stream",
     "text": [
      "Bootstrapped 3 full traces after 5 examples in round 0.\n"
     ]
    },
    {
     "name": "stderr",
     "output_type": "stream",
     "text": [
      " 17%|█▋        | 5/30 [00:00<00:01, 14.28it/s]\n"
     ]
    },
    {
     "name": "stdout",
     "output_type": "stream",
     "text": [
      "Bootstrapped 3 full traces after 6 examples in round 0.\n"
     ]
    },
    {
     "name": "stderr",
     "output_type": "stream",
     "text": [
      " 10%|█         | 3/30 [00:00<00:02, 12.22it/s]\n"
     ]
    },
    {
     "name": "stdout",
     "output_type": "stream",
     "text": [
      "Bootstrapped 3 full traces after 4 examples in round 0.\n"
     ]
    },
    {
     "name": "stderr",
     "output_type": "stream",
     "text": [
      "[I 2024-04-07 15:23:47,496] A new study created in memory with name: no-name-117fdb80-015e-464d-90b1-77fc31e966a4\n"
     ]
    },
    {
     "name": "stdout",
     "output_type": "stream",
     "text": [
      "Starting trial #0\n"
     ]
    },
    {
     "name": "stderr",
     "output_type": "stream",
     "text": [
      "Average Metric: 16 / 30  (53.3): 100%|██████████| 30/30 [00:07<00:00,  3.81it/s]\n",
      "[I 2024-04-07 15:23:55,374] Trial 0 finished with value: 53.33 and parameters: {'2170764072224_predictor_instruction': 1, '2170764072224_predictor_demos': 1}. Best is trial 0 with value: 53.33.\n"
     ]
    },
    {
     "name": "stdout",
     "output_type": "stream",
     "text": [
      "Average Metric: 16 / 30  (53.3%)\n",
      "Starting trial #1\n"
     ]
    },
    {
     "name": "stderr",
     "output_type": "stream",
     "text": [
      "Average Metric: 17 / 30  (56.7): 100%|██████████| 30/30 [00:08<00:00,  3.35it/s]\n",
      "[I 2024-04-07 15:24:04,325] Trial 1 finished with value: 56.67 and parameters: {'2170764072224_predictor_instruction': 5, '2170764072224_predictor_demos': 4}. Best is trial 1 with value: 56.67.\n"
     ]
    },
    {
     "name": "stdout",
     "output_type": "stream",
     "text": [
      "Average Metric: 17 / 30  (56.7%)\n",
      "Starting trial #2\n"
     ]
    },
    {
     "name": "stderr",
     "output_type": "stream",
     "text": [
      "Average Metric: 11 / 30  (36.7): 100%|██████████| 30/30 [00:09<00:00,  3.21it/s]\n",
      "[I 2024-04-07 15:24:13,670] Trial 2 finished with value: 36.67 and parameters: {'2170764072224_predictor_instruction': 3, '2170764072224_predictor_demos': 0}. Best is trial 1 with value: 56.67.\n"
     ]
    },
    {
     "name": "stdout",
     "output_type": "stream",
     "text": [
      "Average Metric: 11 / 30  (36.7%)\n",
      "Starting trial #3\n"
     ]
    },
    {
     "name": "stderr",
     "output_type": "stream",
     "text": [
      "Average Metric: 19 / 30  (63.3): 100%|██████████| 30/30 [00:09<00:00,  3.18it/s]\n",
      "[I 2024-04-07 15:24:23,116] Trial 3 finished with value: 63.33 and parameters: {'2170764072224_predictor_instruction': 9, '2170764072224_predictor_demos': 3}. Best is trial 3 with value: 63.33.\n"
     ]
    },
    {
     "name": "stdout",
     "output_type": "stream",
     "text": [
      "Average Metric: 19 / 30  (63.3%)\n",
      "Starting trial #4\n"
     ]
    },
    {
     "name": "stderr",
     "output_type": "stream",
     "text": [
      "Average Metric: 19 / 30  (63.3): 100%|██████████| 30/30 [00:09<00:00,  3.33it/s]\n",
      "[I 2024-04-07 15:24:32,130] Trial 4 finished with value: 63.33 and parameters: {'2170764072224_predictor_instruction': 8, '2170764072224_predictor_demos': 4}. Best is trial 3 with value: 63.33.\n"
     ]
    },
    {
     "name": "stdout",
     "output_type": "stream",
     "text": [
      "Average Metric: 19 / 30  (63.3%)\n",
      "Returning predict = Predict(StringSignature(sentence -> stance\n",
      "    instructions=\"classify the sentence's stance on the monetary policy between supportive, neutral, and opposing.\"\n",
      "    sentence = Field(annotation=str required=True json_schema_extra={'__dspy_field_type': 'input', 'prefix': 'Sentence:', 'desc': '${sentence}'})\n",
      "    stance = Field(annotation=str required=True json_schema_extra={'desc': 'hawkish, neutral, or dovish', '__dspy_field_type': 'output', 'prefix': '[Classification]\", followed by the suggested stance for the prompt, for example: \"[Classification] hawkish\", \"[Classification] neutral\", or \"[Classification] dovish'})\n",
      ")) from continue_program\n"
     ]
    }
   ],
   "source": [
    "teleprompter = MIPRO(metric = answer_match)\n",
    "optimized_program = teleprompter.compile(Analysis(), trainset = training_set, num_trials=5, max_bootstrapped_demos=3, max_labeled_demos=3, eval_kwargs=dict(display_progress=True, display_table=0))"
   ]
  },
  {
   "cell_type": "code",
   "execution_count": 46,
   "metadata": {},
   "outputs": [
    {
     "data": {
      "text/plain": [
       "predict = Predict(StringSignature(sentence -> stance\n",
       "    instructions=\"classify the sentence's stance on the monetary policy between supportive, neutral, and opposing.\"\n",
       "    sentence = Field(annotation=str required=True json_schema_extra={'__dspy_field_type': 'input', 'prefix': 'Sentence:', 'desc': '${sentence}'})\n",
       "    stance = Field(annotation=str required=True json_schema_extra={'desc': 'hawkish, neutral, or dovish', '__dspy_field_type': 'output', 'prefix': '[Classification]\", followed by the suggested stance for the prompt, for example: \"[Classification] hawkish\", \"[Classification] neutral\", or \"[Classification] dovish'})\n",
       "))"
      ]
     },
     "execution_count": 46,
     "metadata": {},
     "output_type": "execute_result"
    }
   ],
   "source": [
    "optimized_program"
   ]
  },
  {
   "cell_type": "code",
   "execution_count": 47,
   "metadata": {},
   "outputs": [
    {
     "name": "stderr",
     "output_type": "stream",
     "text": [
      "Average Metric: 323 / 496  (65.1): 100%|██████████| 496/496 [02:32<00:00,  3.26it/s]"
     ]
    },
    {
     "name": "stdout",
     "output_type": "stream",
     "text": [
      "Average Metric: 323 / 496  (65.1%)\n"
     ]
    },
    {
     "name": "stderr",
     "output_type": "stream",
     "text": [
      "\n"
     ]
    }
   ],
   "source": [
    "evaluate = Evaluate(devset=testing_set, metric=answer_match, display_progress=True, return_outputs=True)\n",
    "outputs = evaluate(optimized_program)"
   ]
  },
  {
   "cell_type": "code",
   "execution_count": 48,
   "metadata": {},
   "outputs": [
    {
     "name": "stdout",
     "output_type": "stream",
     "text": [
      "Accuracy: 0.6512096774193549\n",
      "F1: 0.6398555274413625\n"
     ]
    },
    {
     "data": {
      "text/html": [
       "<div>\n",
       "<style scoped>\n",
       "    .dataframe tbody tr th:only-of-type {\n",
       "        vertical-align: middle;\n",
       "    }\n",
       "\n",
       "    .dataframe tbody tr th {\n",
       "        vertical-align: top;\n",
       "    }\n",
       "\n",
       "    .dataframe thead th {\n",
       "        text-align: right;\n",
       "    }\n",
       "</style>\n",
       "<table border=\"1\" class=\"dataframe\">\n",
       "  <thead>\n",
       "    <tr style=\"text-align: right;\">\n",
       "      <th></th>\n",
       "      <th>Sentence</th>\n",
       "      <th>Actual</th>\n",
       "      <th>Predicted</th>\n",
       "    </tr>\n",
       "  </thead>\n",
       "  <tbody>\n",
       "    <tr>\n",
       "      <th>0</th>\n",
       "      <td>Setting the horizon on the interest rate caps ...</td>\n",
       "      <td>neutral</td>\n",
       "      <td>neutral</td>\n",
       "    </tr>\n",
       "    <tr>\n",
       "      <th>1</th>\n",
       "      <td>Nonetheless, employment is still 9.5 million b...</td>\n",
       "      <td>dovish</td>\n",
       "      <td>dovish</td>\n",
       "    </tr>\n",
       "    <tr>\n",
       "      <th>2</th>\n",
       "      <td>The shifting balance of domestic demand and po...</td>\n",
       "      <td>hawkish</td>\n",
       "      <td>neutral</td>\n",
       "    </tr>\n",
       "    <tr>\n",
       "      <th>3</th>\n",
       "      <td>By 2009, the forecasts for both the headline a...</td>\n",
       "      <td>neutral</td>\n",
       "      <td>neutral</td>\n",
       "    </tr>\n",
       "    <tr>\n",
       "      <th>4</th>\n",
       "      <td>In Japan, private consumption rebounded strong...</td>\n",
       "      <td>neutral</td>\n",
       "      <td>neutral</td>\n",
       "    </tr>\n",
       "  </tbody>\n",
       "</table>\n",
       "</div>"
      ],
      "text/plain": [
       "                                            Sentence   Actual Predicted\n",
       "0  Setting the horizon on the interest rate caps ...  neutral   neutral\n",
       "1  Nonetheless, employment is still 9.5 million b...   dovish    dovish\n",
       "2  The shifting balance of domestic demand and po...  hawkish   neutral\n",
       "3  By 2009, the forecasts for both the headline a...  neutral   neutral\n",
       "4  In Japan, private consumption rebounded strong...  neutral   neutral"
      ]
     },
     "execution_count": 48,
     "metadata": {},
     "output_type": "execute_result"
    }
   ],
   "source": [
    "outdf = pd.DataFrame(columns=['Sentence', 'Actual', 'Predicted'])\n",
    "for pred in outputs[1]:\n",
    "    outdf.loc[len(outdf)] = [pred[0].sentence, d[pred[0].answer].lower(), pred[1].stance.lower()]\n",
    "outdf.to_csv(f\"../data/llm_prompt_outputs/dspy_{seed}.csv\", index=False)\n",
    "print(f\"Accuracy: {accuracy_score(outdf['Actual'], outdf['Predicted'])}\")\n",
    "print(f\"F1: {f1_score(outdf['Actual'], outdf['Predicted'], average='weighted')}\")\n",
    "outdf.head()"
   ]
  },
  {
   "cell_type": "code",
   "execution_count": 49,
   "metadata": {},
   "outputs": [
    {
     "name": "stdout",
     "output_type": "stream",
     "text": [
      "0.6411790980666666\n",
      "0.028620621062180572\n"
     ]
    }
   ],
   "source": [
    "print(np.mean([0.6068066709, 0.6398555274, 0.6768750959]))\n",
    "print(np.std([0.6068066709, 0.6398555274, 0.6768750959]))"
   ]
  }
 ],
 "metadata": {
  "kernelspec": {
   "display_name": "base",
   "language": "python",
   "name": "python3"
  },
  "language_info": {
   "codemirror_mode": {
    "name": "ipython",
    "version": 3
   },
   "file_extension": ".py",
   "mimetype": "text/x-python",
   "name": "python",
   "nbconvert_exporter": "python",
   "pygments_lexer": "ipython3",
   "version": "3.9.7"
  }
 },
 "nbformat": 4,
 "nbformat_minor": 2
}
